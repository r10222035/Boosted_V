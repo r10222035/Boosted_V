{
 "cells": [
  {
   "cell_type": "code",
   "execution_count": 1,
   "id": "cfa35fc1",
   "metadata": {},
   "outputs": [
    {
     "name": "stderr",
     "output_type": "stream",
     "text": [
      "2022-11-21 10:32:02.192106: I tensorflow/core/util/util.cc:169] oneDNN custom operations are on. You may see slightly different numerical results due to floating-point round-off errors from different computation orders. To turn them off, set the environment variable `TF_ENABLE_ONEDNN_OPTS=0`.\n"
     ]
    }
   ],
   "source": [
    "import os\n",
    "import sys\n",
    "os.environ['CUDA_VISIBLE_DEVICES']='2'\n",
    "# for visual studio code\n",
    "os.chdir('/home/r10222035/boosted_V_ML_test/CNN/')\n",
    "\n",
    "import matplotlib.pyplot as plt\n",
    "import numpy as np\n",
    "import tensorflow as tf\n",
    "import datetime\n",
    "import pandas as pd\n",
    "from tqdm import tqdm\n",
    "from readTFR import *\n",
    "\n",
    "from sklearn.metrics import roc_curve, roc_auc_score, accuracy_score"
   ]
  },
  {
   "cell_type": "markdown",
   "id": "d2835296",
   "metadata": {},
   "source": [
    "# Training data "
   ]
  },
  {
   "cell_type": "code",
   "execution_count": 2,
   "id": "6c9eebce",
   "metadata": {},
   "outputs": [],
   "source": [
    "kappa = 0.15\n",
    "nevent = '700k'"
   ]
  },
  {
   "cell_type": "code",
   "execution_count": 5,
   "id": "9e459ae3",
   "metadata": {},
   "outputs": [],
   "source": [
    "batch_size = 512\n",
    "shuffle_size_tr = 0\n",
    "dim_image = [[75, 75], [[-0.8, 0.8], [-0.8, 0.8]]]"
   ]
  },
  {
   "cell_type": "code",
   "execution_count": 18,
   "id": "e1145a91",
   "metadata": {},
   "outputs": [
    {
     "name": "stdout",
     "output_type": "stream",
     "text": [
      "The data set contains images\n",
      "The data set contains images\n",
      "The data set contains images\n"
     ]
    }
   ],
   "source": [
    "sample_dir = f'/home/r10222035/boosted_V_ML_test/sample/samples_kappa{kappa}-{nevent}/'\n",
    "print(f'Read data from {sample_dir}')\n",
    "data_tr = os.path.join(sample_dir, 'train.tfrecord')\n",
    "data_vl = os.path.join(sample_dir, 'valid.tfrecord')\n",
    "data_te = os.path.join(sample_dir, 'test.tfrecord')\n",
    "\n",
    "dataset_tr, tr_total = get_dataset(data_tr, repeat=False, \n",
    "                                   batch_size=batch_size, \n",
    "                                   dim_image=dim_image+[True], \n",
    "                                   shuffle=shuffle_size_tr)\n",
    "dataset_vl, vl_total = get_dataset(data_vl, repeat=False, \n",
    "                                   batch_size=batch_size, \n",
    "                                   dim_image=dim_image+[True], \n",
    "                                   shuffle=0)\n",
    "dataset_te, te_total = get_dataset(data_te, repeat=False, \n",
    "                                   batch_size=batch_size, \n",
    "                                   dim_image=dim_image+[True], \n",
    "                                   shuffle=0)\n",
    "\n",
    "labels_tr = np.vstack([x[1] for x in dataset_tr])\n",
    "labels_vl = np.vstack([x[1] for x in dataset_vl])\n",
    "labels_te = np.vstack([x[1] for x in dataset_te])\n",
    "\n",
    "y_tr = np.argmax(labels_tr, axis=1)\n",
    "y_vl = np.argmax(labels_vl, axis=1)\n",
    "y_te = np.argmax(labels_te, axis=1)"
   ]
  },
  {
   "cell_type": "code",
   "execution_count": 9,
   "id": "69b5be72",
   "metadata": {},
   "outputs": [],
   "source": [
    "def count_sample_size(y):\n",
    "    # count sample size for 3 types\n",
    "    size = [0,0,0]\n",
    "    size[0] = (y == 0).sum()\n",
    "    size[1] = (y == 1).sum()\n",
    "    size[2] = (y == 2).sum()\n",
    "    return size"
   ]
  },
  {
   "cell_type": "code",
   "execution_count": 10,
   "id": "b2cb63cd",
   "metadata": {},
   "outputs": [
    {
     "name": "stdout",
     "output_type": "stream",
     "text": [
      "Training size: [11367, 12071, 10354]\n",
      "Validation size: [2928, 2924, 2596]\n",
      "Testing size: [3516, 3700, 3280]\n"
     ]
    }
   ],
   "source": [
    "train_size = count_sample_size(y_tr)\n",
    "print('Training size:', train_size)\n",
    "\n",
    "validation_size = count_sample_size(y_vl)\n",
    "print('Validation size:', validation_size)\n",
    "\n",
    "test_size = count_sample_size(y_te)\n",
    "print('Testing size:', test_size)"
   ]
  },
  {
   "cell_type": "code",
   "execution_count": 15,
   "id": "ac61bf16",
   "metadata": {},
   "outputs": [
    {
     "name": "stdout",
     "output_type": "stream",
     "text": [
      "(75, 75, 2)\n",
      "tf.Tensor(\n",
      "[[0. 0. 0. ... 0. 0. 0.]\n",
      " [0. 0. 0. ... 0. 0. 0.]\n",
      " [0. 0. 0. ... 0. 0. 0.]\n",
      " ...\n",
      " [0. 0. 0. ... 0. 0. 0.]\n",
      " [0. 0. 0. ... 0. 0. 0.]\n",
      " [0. 0. 0. ... 0. 0. 0.]], shape=(75, 75), dtype=float32)\n",
      "tf.Tensor(\n",
      "[[0. 0. 0. ... 0. 0. 0.]\n",
      " [0. 0. 0. ... 0. 0. 0.]\n",
      " [0. 0. 0. ... 0. 0. 0.]\n",
      " ...\n",
      " [0. 0. 0. ... 0. 0. 0.]\n",
      " [0. 0. 0. ... 0. 0. 0.]\n",
      " [0. 0. 0. ... 0. 0. 0.]], shape=(75, 75), dtype=float32)\n"
     ]
    },
    {
     "ename": "AttributeError",
     "evalue": "'tensorflow.python.framework.ops.EagerTensor' object has no attribute 'Flatten'",
     "output_type": "error",
     "traceback": [
      "\u001b[0;31m---------------------------------------------------------------------------\u001b[0m",
      "\u001b[0;31mAttributeError\u001b[0m                            Traceback (most recent call last)",
      "Cell \u001b[0;32mIn [15], line 10\u001b[0m\n\u001b[1;32m      7\u001b[0m c \u001b[38;5;241m=\u001b[39m tf\u001b[38;5;241m.\u001b[39mexpand_dims(a, \u001b[38;5;241m-\u001b[39m\u001b[38;5;241m1\u001b[39m)\n\u001b[1;32m      8\u001b[0m d \u001b[38;5;241m=\u001b[39m tf\u001b[38;5;241m.\u001b[39mexpand_dims(b, \u001b[38;5;241m-\u001b[39m\u001b[38;5;241m1\u001b[39m)\n\u001b[0;32m---> 10\u001b[0m \u001b[38;5;28mprint\u001b[39m(tf\u001b[38;5;241m.\u001b[39mconcat([\u001b[43mc\u001b[49m\u001b[38;5;241;43m.\u001b[39;49m\u001b[43mFlatten\u001b[49m()]))\n",
      "File \u001b[0;32m~/.conda/envs/tf2/lib/python3.8/site-packages/tensorflow/python/framework/ops.py:446\u001b[0m, in \u001b[0;36mTensor.__getattr__\u001b[0;34m(self, name)\u001b[0m\n\u001b[1;32m    437\u001b[0m \u001b[38;5;28;01mif\u001b[39;00m name \u001b[38;5;129;01min\u001b[39;00m {\u001b[38;5;124m\"\u001b[39m\u001b[38;5;124mT\u001b[39m\u001b[38;5;124m\"\u001b[39m, \u001b[38;5;124m\"\u001b[39m\u001b[38;5;124mastype\u001b[39m\u001b[38;5;124m\"\u001b[39m, \u001b[38;5;124m\"\u001b[39m\u001b[38;5;124mravel\u001b[39m\u001b[38;5;124m\"\u001b[39m, \u001b[38;5;124m\"\u001b[39m\u001b[38;5;124mtranspose\u001b[39m\u001b[38;5;124m\"\u001b[39m, \u001b[38;5;124m\"\u001b[39m\u001b[38;5;124mreshape\u001b[39m\u001b[38;5;124m\"\u001b[39m, \u001b[38;5;124m\"\u001b[39m\u001b[38;5;124mclip\u001b[39m\u001b[38;5;124m\"\u001b[39m, \u001b[38;5;124m\"\u001b[39m\u001b[38;5;124msize\u001b[39m\u001b[38;5;124m\"\u001b[39m,\n\u001b[1;32m    438\u001b[0m             \u001b[38;5;124m\"\u001b[39m\u001b[38;5;124mtolist\u001b[39m\u001b[38;5;124m\"\u001b[39m, \u001b[38;5;124m\"\u001b[39m\u001b[38;5;124mdata\u001b[39m\u001b[38;5;124m\"\u001b[39m}:\n\u001b[1;32m    439\u001b[0m   \u001b[38;5;66;03m# TODO(wangpeng): Export the enable_numpy_behavior knob\u001b[39;00m\n\u001b[1;32m    440\u001b[0m   \u001b[38;5;28;01mraise\u001b[39;00m \u001b[38;5;167;01mAttributeError\u001b[39;00m(\n\u001b[1;32m    441\u001b[0m       \u001b[38;5;124mf\u001b[39m\u001b[38;5;124m\"\u001b[39m\u001b[38;5;132;01m{\u001b[39;00m\u001b[38;5;28mtype\u001b[39m(\u001b[38;5;28mself\u001b[39m)\u001b[38;5;241m.\u001b[39m\u001b[38;5;18m__name__\u001b[39m\u001b[38;5;132;01m}\u001b[39;00m\u001b[38;5;124m object has no attribute \u001b[39m\u001b[38;5;124m'\u001b[39m\u001b[38;5;132;01m{\u001b[39;00mname\u001b[38;5;132;01m}\u001b[39;00m\u001b[38;5;124m'\u001b[39m\u001b[38;5;124m. \u001b[39m\u001b[38;5;124m\"\u001b[39m \u001b[38;5;241m+\u001b[39m \u001b[38;5;124m\"\"\"\u001b[39m\n\u001b[1;32m    442\u001b[0m \u001b[38;5;124m    If you are looking for numpy-related methods, please run the following:\u001b[39m\n\u001b[1;32m    443\u001b[0m \u001b[38;5;124m    from tensorflow.python.ops.numpy_ops import np_config\u001b[39m\n\u001b[1;32m    444\u001b[0m \u001b[38;5;124m    np_config.enable_numpy_behavior()\u001b[39m\n\u001b[1;32m    445\u001b[0m \u001b[38;5;124m  \u001b[39m\u001b[38;5;124m\"\"\"\u001b[39m)\n\u001b[0;32m--> 446\u001b[0m \u001b[38;5;28;43mself\u001b[39;49m\u001b[38;5;241;43m.\u001b[39;49m\u001b[38;5;21;43m__getattribute__\u001b[39;49m\u001b[43m(\u001b[49m\u001b[43mname\u001b[49m\u001b[43m)\u001b[49m\n",
      "\u001b[0;31mAttributeError\u001b[0m: 'tensorflow.python.framework.ops.EagerTensor' object has no attribute 'Flatten'"
     ]
    }
   ],
   "source": [
    "for x in dataset_te.take(1):\n",
    "    print(x[0][0].shape)\n",
    "    print(x[0][0][:,:,0])\n",
    "    a = x[0][0][:,:,0]\n",
    "    b = x[0][0][:,:,1]\n",
    "print(a)\n",
    "c = tf.expand_dims(a, -1)\n",
    "d = tf.expand_dims(b, -1)\n",
    "\n"
   ]
  },
  {
   "cell_type": "markdown",
   "id": "bc243b35",
   "metadata": {},
   "source": [
    "# Training "
   ]
  },
  {
   "cell_type": "markdown",
   "id": "75846115",
   "metadata": {},
   "source": [
    "## CNN"
   ]
  },
  {
   "cell_type": "code",
   "execution_count": 32,
   "id": "036728ca",
   "metadata": {},
   "outputs": [],
   "source": [
    "class CNN(tf.keras.Model):\n",
    "    def __init__(self, name='CNN', dim_image=(75, 75, 2), n_class=3):\n",
    "        super(CNN, self).__init__(name=name)\n",
    "        \n",
    "        self.ptqk = tf.keras.Sequential([\n",
    "            tf.keras.layers.BatchNormalization(),\n",
    "            tf.keras.layers.Conv2D(32, (6,6), padding='same', activation='relu', kernel_regularizer=tf.keras.regularizers.L2(0.01)),\n",
    "            tf.keras.layers.MaxPool2D((2,2)),\n",
    "            tf.keras.layers.Conv2D(128, (4,4), padding='same', activation='relu'),\n",
    "            tf.keras.layers.MaxPool2D((2,2)),\n",
    "            tf.keras.layers.Conv2D(256, (6,6), padding='same', activation='relu'),\n",
    "            tf.keras.layers.MaxPool2D((2,2)),\n",
    "            tf.keras.layers.Dropout(0.1),\n",
    "            tf.keras.layers.Flatten(),\n",
    "            tf.keras.layers.Dense(512, activation='relu', kernel_regularizer=tf.keras.regularizers.L2(0.01)),\n",
    "            tf.keras.layers.Dropout(0.5),\n",
    "            tf.keras.layers.Dense(512, activation='relu', kernel_regularizer=tf.keras.regularizers.L2(0.01)),\n",
    "            tf.keras.layers.Dropout(0.5),\n",
    "        ])\n",
    "        \n",
    "        \"\"\"Output Layer\"\"\"\n",
    "        self._output = tf.keras.layers.Dense(n_class, activation='softmax')\n",
    "        \n",
    "    @tf.function\n",
    "    def call(self, inputs, training=False):\n",
    "        latent_ptqk = self.ptqk(inputs)\n",
    "        \n",
    "        return self._output(latent_ptqk)"
   ]
  },
  {
   "cell_type": "code",
   "execution_count": 33,
   "id": "aed89563",
   "metadata": {},
   "outputs": [],
   "source": [
    "# Training parameters\n",
    "train_epochs = 500\n",
    "patience = 10\n",
    "min_delta = 0.\n",
    "learning_rate = 1e-4                                    \n",
    "save_model_name = f'best_model_CNN_kappa{kappa}-{nevent}/'"
   ]
  },
  {
   "cell_type": "code",
   "execution_count": 34,
   "id": "60f2ad6d",
   "metadata": {},
   "outputs": [
    {
     "name": "stdout",
     "output_type": "stream",
     "text": [
      "Epoch 1/500\n",
      "    131/Unknown - 5s 31ms/step - loss: 9.6179 - accuracy: 0.4398\n",
      "Epoch 1: val_loss improved from inf to 5.61434, saving model to best_model_CNN_kappa0.15-100k/\n"
     ]
    },
    {
     "name": "stderr",
     "output_type": "stream",
     "text": [
      "WARNING:absl:Found untraced functions such as _jit_compiled_convolution_op, _jit_compiled_convolution_op, _jit_compiled_convolution_op while saving (showing 3 of 3). These functions will not be directly callable after loading.\n"
     ]
    },
    {
     "name": "stdout",
     "output_type": "stream",
     "text": [
      "INFO:tensorflow:Assets written to: best_model_CNN_kappa0.15-100k/assets\n"
     ]
    },
    {
     "name": "stderr",
     "output_type": "stream",
     "text": [
      "INFO:tensorflow:Assets written to: best_model_CNN_kappa0.15-100k/assets\n"
     ]
    },
    {
     "name": "stdout",
     "output_type": "stream",
     "text": [
      "132/132 [==============================] - 7s 50ms/step - loss: 9.5877 - accuracy: 0.4395 - val_loss: 5.6143 - val_accuracy: 0.4505\n",
      "Epoch 2/500\n",
      " 89/132 [===================>..........] - ETA: 1s - loss: 4.5536 - accuracy: 0.5278"
     ]
    },
    {
     "ename": "KeyboardInterrupt",
     "evalue": "",
     "output_type": "error",
     "traceback": [
      "\u001b[0;31m---------------------------------------------------------------------------\u001b[0m",
      "\u001b[0;31mKeyboardInterrupt\u001b[0m                         Traceback (most recent call last)",
      "Cell \u001b[0;32mIn [34], line 12\u001b[0m\n\u001b[1;32m      8\u001b[0m early_stopping \u001b[38;5;241m=\u001b[39m tf\u001b[38;5;241m.\u001b[39mkeras\u001b[38;5;241m.\u001b[39mcallbacks\u001b[38;5;241m.\u001b[39mEarlyStopping(monitor\u001b[38;5;241m=\u001b[39m\u001b[38;5;124m'\u001b[39m\u001b[38;5;124mval_loss\u001b[39m\u001b[38;5;124m'\u001b[39m, min_delta\u001b[38;5;241m=\u001b[39mmin_delta, verbose\u001b[38;5;241m=\u001b[39m\u001b[38;5;241m1\u001b[39m, patience\u001b[38;5;241m=\u001b[39mpatience)\n\u001b[1;32m      9\u001b[0m check_point    \u001b[38;5;241m=\u001b[39m tf\u001b[38;5;241m.\u001b[39mkeras\u001b[38;5;241m.\u001b[39mcallbacks\u001b[38;5;241m.\u001b[39mModelCheckpoint(save_model_name, monitor\u001b[38;5;241m=\u001b[39m\u001b[38;5;124m'\u001b[39m\u001b[38;5;124mval_loss\u001b[39m\u001b[38;5;124m'\u001b[39m, \n\u001b[1;32m     10\u001b[0m                                                     verbose\u001b[38;5;241m=\u001b[39m\u001b[38;5;241m1\u001b[39m, save_best_only\u001b[38;5;241m=\u001b[39m\u001b[38;5;28;01mTrue\u001b[39;00m)\n\u001b[0;32m---> 12\u001b[0m history \u001b[38;5;241m=\u001b[39m \u001b[43mmodel\u001b[49m\u001b[38;5;241;43m.\u001b[39;49m\u001b[43mfit\u001b[49m\u001b[43m(\u001b[49m\u001b[43mdataset_tr\u001b[49m\u001b[43m,\u001b[49m\u001b[43m \u001b[49m\u001b[43mvalidation_data\u001b[49m\u001b[38;5;241;43m=\u001b[39;49m\u001b[43mdataset_vl\u001b[49m\u001b[43m \u001b[49m\u001b[43m,\u001b[49m\u001b[43m \u001b[49m\u001b[43mepochs\u001b[49m\u001b[38;5;241;43m=\u001b[39;49m\u001b[43mtrain_epochs\u001b[49m\u001b[43m,\u001b[49m\u001b[43m \u001b[49m\u001b[43mbatch_size\u001b[49m\u001b[38;5;241;43m=\u001b[39;49m\u001b[43mbatch_size\u001b[49m\u001b[43m,\u001b[49m\u001b[43m \u001b[49m\u001b[43mcallbacks\u001b[49m\u001b[38;5;241;43m=\u001b[39;49m\u001b[43m[\u001b[49m\u001b[43mearly_stopping\u001b[49m\u001b[43m,\u001b[49m\u001b[43m \u001b[49m\u001b[43mcheck_point\u001b[49m\u001b[43m]\u001b[49m\u001b[43m)\u001b[49m\n",
      "File \u001b[0;32m~/.conda/envs/tf2/lib/python3.8/site-packages/keras/utils/traceback_utils.py:64\u001b[0m, in \u001b[0;36mfilter_traceback.<locals>.error_handler\u001b[0;34m(*args, **kwargs)\u001b[0m\n\u001b[1;32m     62\u001b[0m filtered_tb \u001b[39m=\u001b[39m \u001b[39mNone\u001b[39;00m\n\u001b[1;32m     63\u001b[0m \u001b[39mtry\u001b[39;00m:\n\u001b[0;32m---> 64\u001b[0m   \u001b[39mreturn\u001b[39;00m fn(\u001b[39m*\u001b[39;49margs, \u001b[39m*\u001b[39;49m\u001b[39m*\u001b[39;49mkwargs)\n\u001b[1;32m     65\u001b[0m \u001b[39mexcept\u001b[39;00m \u001b[39mException\u001b[39;00m \u001b[39mas\u001b[39;00m e:  \u001b[39m# pylint: disable=broad-except\u001b[39;00m\n\u001b[1;32m     66\u001b[0m   filtered_tb \u001b[39m=\u001b[39m _process_traceback_frames(e\u001b[39m.\u001b[39m__traceback__)\n",
      "File \u001b[0;32m~/.conda/envs/tf2/lib/python3.8/site-packages/keras/engine/training.py:1414\u001b[0m, in \u001b[0;36mModel.fit\u001b[0;34m(self, x, y, batch_size, epochs, verbose, callbacks, validation_split, validation_data, shuffle, class_weight, sample_weight, initial_epoch, steps_per_epoch, validation_steps, validation_batch_size, validation_freq, max_queue_size, workers, use_multiprocessing)\u001b[0m\n\u001b[1;32m   1412\u001b[0m logs \u001b[39m=\u001b[39m tmp_logs  \u001b[39m# No error, now safe to assign to logs.\u001b[39;00m\n\u001b[1;32m   1413\u001b[0m end_step \u001b[39m=\u001b[39m step \u001b[39m+\u001b[39m data_handler\u001b[39m.\u001b[39mstep_increment\n\u001b[0;32m-> 1414\u001b[0m callbacks\u001b[39m.\u001b[39;49mon_train_batch_end(end_step, logs)\n\u001b[1;32m   1415\u001b[0m \u001b[39mif\u001b[39;00m \u001b[39mself\u001b[39m\u001b[39m.\u001b[39mstop_training:\n\u001b[1;32m   1416\u001b[0m   \u001b[39mbreak\u001b[39;00m\n",
      "File \u001b[0;32m~/.conda/envs/tf2/lib/python3.8/site-packages/keras/callbacks.py:438\u001b[0m, in \u001b[0;36mCallbackList.on_train_batch_end\u001b[0;34m(self, batch, logs)\u001b[0m\n\u001b[1;32m    431\u001b[0m \u001b[39m\"\"\"Calls the `on_train_batch_end` methods of its callbacks.\u001b[39;00m\n\u001b[1;32m    432\u001b[0m \n\u001b[1;32m    433\u001b[0m \u001b[39mArgs:\u001b[39;00m\n\u001b[1;32m    434\u001b[0m \u001b[39m    batch: Integer, index of batch within the current epoch.\u001b[39;00m\n\u001b[1;32m    435\u001b[0m \u001b[39m    logs: Dict. Aggregated metric results up until this batch.\u001b[39;00m\n\u001b[1;32m    436\u001b[0m \u001b[39m\"\"\"\u001b[39;00m\n\u001b[1;32m    437\u001b[0m \u001b[39mif\u001b[39;00m \u001b[39mself\u001b[39m\u001b[39m.\u001b[39m_should_call_train_batch_hooks:\n\u001b[0;32m--> 438\u001b[0m   \u001b[39mself\u001b[39;49m\u001b[39m.\u001b[39;49m_call_batch_hook(ModeKeys\u001b[39m.\u001b[39;49mTRAIN, \u001b[39m'\u001b[39;49m\u001b[39mend\u001b[39;49m\u001b[39m'\u001b[39;49m, batch, logs\u001b[39m=\u001b[39;49mlogs)\n",
      "File \u001b[0;32m~/.conda/envs/tf2/lib/python3.8/site-packages/keras/callbacks.py:297\u001b[0m, in \u001b[0;36mCallbackList._call_batch_hook\u001b[0;34m(self, mode, hook, batch, logs)\u001b[0m\n\u001b[1;32m    295\u001b[0m   \u001b[39mself\u001b[39m\u001b[39m.\u001b[39m_call_batch_begin_hook(mode, batch, logs)\n\u001b[1;32m    296\u001b[0m \u001b[39melif\u001b[39;00m hook \u001b[39m==\u001b[39m \u001b[39m'\u001b[39m\u001b[39mend\u001b[39m\u001b[39m'\u001b[39m:\n\u001b[0;32m--> 297\u001b[0m   \u001b[39mself\u001b[39;49m\u001b[39m.\u001b[39;49m_call_batch_end_hook(mode, batch, logs)\n\u001b[1;32m    298\u001b[0m \u001b[39melse\u001b[39;00m:\n\u001b[1;32m    299\u001b[0m   \u001b[39mraise\u001b[39;00m \u001b[39mValueError\u001b[39;00m(\n\u001b[1;32m    300\u001b[0m       \u001b[39mf\u001b[39m\u001b[39m'\u001b[39m\u001b[39mUnrecognized hook: \u001b[39m\u001b[39m{\u001b[39;00mhook\u001b[39m}\u001b[39;00m\u001b[39m. Expected values are [\u001b[39m\u001b[39m\"\u001b[39m\u001b[39mbegin\u001b[39m\u001b[39m\"\u001b[39m\u001b[39m, \u001b[39m\u001b[39m\"\u001b[39m\u001b[39mend\u001b[39m\u001b[39m\"\u001b[39m\u001b[39m]\u001b[39m\u001b[39m'\u001b[39m)\n",
      "File \u001b[0;32m~/.conda/envs/tf2/lib/python3.8/site-packages/keras/callbacks.py:318\u001b[0m, in \u001b[0;36mCallbackList._call_batch_end_hook\u001b[0;34m(self, mode, batch, logs)\u001b[0m\n\u001b[1;32m    315\u001b[0m   batch_time \u001b[39m=\u001b[39m time\u001b[39m.\u001b[39mtime() \u001b[39m-\u001b[39m \u001b[39mself\u001b[39m\u001b[39m.\u001b[39m_batch_start_time\n\u001b[1;32m    316\u001b[0m   \u001b[39mself\u001b[39m\u001b[39m.\u001b[39m_batch_times\u001b[39m.\u001b[39mappend(batch_time)\n\u001b[0;32m--> 318\u001b[0m \u001b[39mself\u001b[39;49m\u001b[39m.\u001b[39;49m_call_batch_hook_helper(hook_name, batch, logs)\n\u001b[1;32m    320\u001b[0m \u001b[39mif\u001b[39;00m \u001b[39mlen\u001b[39m(\u001b[39mself\u001b[39m\u001b[39m.\u001b[39m_batch_times) \u001b[39m>\u001b[39m\u001b[39m=\u001b[39m \u001b[39mself\u001b[39m\u001b[39m.\u001b[39m_num_batches_for_timing_check:\n\u001b[1;32m    321\u001b[0m   end_hook_name \u001b[39m=\u001b[39m hook_name\n",
      "File \u001b[0;32m~/.conda/envs/tf2/lib/python3.8/site-packages/keras/callbacks.py:356\u001b[0m, in \u001b[0;36mCallbackList._call_batch_hook_helper\u001b[0;34m(self, hook_name, batch, logs)\u001b[0m\n\u001b[1;32m    354\u001b[0m \u001b[39mfor\u001b[39;00m callback \u001b[39min\u001b[39;00m \u001b[39mself\u001b[39m\u001b[39m.\u001b[39mcallbacks:\n\u001b[1;32m    355\u001b[0m   hook \u001b[39m=\u001b[39m \u001b[39mgetattr\u001b[39m(callback, hook_name)\n\u001b[0;32m--> 356\u001b[0m   hook(batch, logs)\n\u001b[1;32m    358\u001b[0m \u001b[39mif\u001b[39;00m \u001b[39mself\u001b[39m\u001b[39m.\u001b[39m_check_timing:\n\u001b[1;32m    359\u001b[0m   \u001b[39mif\u001b[39;00m hook_name \u001b[39mnot\u001b[39;00m \u001b[39min\u001b[39;00m \u001b[39mself\u001b[39m\u001b[39m.\u001b[39m_hook_times:\n",
      "File \u001b[0;32m~/.conda/envs/tf2/lib/python3.8/site-packages/keras/callbacks.py:1034\u001b[0m, in \u001b[0;36mProgbarLogger.on_train_batch_end\u001b[0;34m(self, batch, logs)\u001b[0m\n\u001b[1;32m   1033\u001b[0m \u001b[39mdef\u001b[39;00m \u001b[39mon_train_batch_end\u001b[39m(\u001b[39mself\u001b[39m, batch, logs\u001b[39m=\u001b[39m\u001b[39mNone\u001b[39;00m):\n\u001b[0;32m-> 1034\u001b[0m   \u001b[39mself\u001b[39;49m\u001b[39m.\u001b[39;49m_batch_update_progbar(batch, logs)\n",
      "File \u001b[0;32m~/.conda/envs/tf2/lib/python3.8/site-packages/keras/callbacks.py:1106\u001b[0m, in \u001b[0;36mProgbarLogger._batch_update_progbar\u001b[0;34m(self, batch, logs)\u001b[0m\n\u001b[1;32m   1102\u001b[0m   \u001b[39mself\u001b[39m\u001b[39m.\u001b[39mseen \u001b[39m+\u001b[39m\u001b[39m=\u001b[39m add_seen\n\u001b[1;32m   1104\u001b[0m \u001b[39mif\u001b[39;00m \u001b[39mself\u001b[39m\u001b[39m.\u001b[39mverbose \u001b[39m==\u001b[39m \u001b[39m1\u001b[39m:\n\u001b[1;32m   1105\u001b[0m   \u001b[39m# Only block async when verbose = 1.\u001b[39;00m\n\u001b[0;32m-> 1106\u001b[0m   logs \u001b[39m=\u001b[39m tf_utils\u001b[39m.\u001b[39;49msync_to_numpy_or_python_type(logs)\n\u001b[1;32m   1107\u001b[0m   \u001b[39mself\u001b[39m\u001b[39m.\u001b[39mprogbar\u001b[39m.\u001b[39mupdate(\u001b[39mself\u001b[39m\u001b[39m.\u001b[39mseen, \u001b[39mlist\u001b[39m(logs\u001b[39m.\u001b[39mitems()), finalize\u001b[39m=\u001b[39m\u001b[39mFalse\u001b[39;00m)\n",
      "File \u001b[0;32m~/.conda/envs/tf2/lib/python3.8/site-packages/keras/utils/tf_utils.py:607\u001b[0m, in \u001b[0;36msync_to_numpy_or_python_type\u001b[0;34m(tensors)\u001b[0m\n\u001b[1;32m    604\u001b[0m     \u001b[39mreturn\u001b[39;00m t\n\u001b[1;32m    605\u001b[0m   \u001b[39mreturn\u001b[39;00m t\u001b[39m.\u001b[39mitem() \u001b[39mif\u001b[39;00m np\u001b[39m.\u001b[39mndim(t) \u001b[39m==\u001b[39m \u001b[39m0\u001b[39m \u001b[39melse\u001b[39;00m t\n\u001b[0;32m--> 607\u001b[0m \u001b[39mreturn\u001b[39;00m tf\u001b[39m.\u001b[39;49mnest\u001b[39m.\u001b[39;49mmap_structure(_to_single_numpy_or_python_type, tensors)\n",
      "File \u001b[0;32m~/.conda/envs/tf2/lib/python3.8/site-packages/tensorflow/python/util/nest.py:916\u001b[0m, in \u001b[0;36mmap_structure\u001b[0;34m(func, *structure, **kwargs)\u001b[0m\n\u001b[1;32m    912\u001b[0m flat_structure \u001b[39m=\u001b[39m (flatten(s, expand_composites) \u001b[39mfor\u001b[39;00m s \u001b[39min\u001b[39;00m structure)\n\u001b[1;32m    913\u001b[0m entries \u001b[39m=\u001b[39m \u001b[39mzip\u001b[39m(\u001b[39m*\u001b[39mflat_structure)\n\u001b[1;32m    915\u001b[0m \u001b[39mreturn\u001b[39;00m pack_sequence_as(\n\u001b[0;32m--> 916\u001b[0m     structure[\u001b[39m0\u001b[39m], [func(\u001b[39m*\u001b[39mx) \u001b[39mfor\u001b[39;00m x \u001b[39min\u001b[39;00m entries],\n\u001b[1;32m    917\u001b[0m     expand_composites\u001b[39m=\u001b[39mexpand_composites)\n",
      "File \u001b[0;32m~/.conda/envs/tf2/lib/python3.8/site-packages/tensorflow/python/util/nest.py:916\u001b[0m, in \u001b[0;36m<listcomp>\u001b[0;34m(.0)\u001b[0m\n\u001b[1;32m    912\u001b[0m flat_structure \u001b[39m=\u001b[39m (flatten(s, expand_composites) \u001b[39mfor\u001b[39;00m s \u001b[39min\u001b[39;00m structure)\n\u001b[1;32m    913\u001b[0m entries \u001b[39m=\u001b[39m \u001b[39mzip\u001b[39m(\u001b[39m*\u001b[39mflat_structure)\n\u001b[1;32m    915\u001b[0m \u001b[39mreturn\u001b[39;00m pack_sequence_as(\n\u001b[0;32m--> 916\u001b[0m     structure[\u001b[39m0\u001b[39m], [func(\u001b[39m*\u001b[39;49mx) \u001b[39mfor\u001b[39;00m x \u001b[39min\u001b[39;00m entries],\n\u001b[1;32m    917\u001b[0m     expand_composites\u001b[39m=\u001b[39mexpand_composites)\n",
      "File \u001b[0;32m~/.conda/envs/tf2/lib/python3.8/site-packages/keras/utils/tf_utils.py:601\u001b[0m, in \u001b[0;36msync_to_numpy_or_python_type.<locals>._to_single_numpy_or_python_type\u001b[0;34m(t)\u001b[0m\n\u001b[1;32m    598\u001b[0m \u001b[39mdef\u001b[39;00m \u001b[39m_to_single_numpy_or_python_type\u001b[39m(t):\n\u001b[1;32m    599\u001b[0m   \u001b[39m# Don't turn ragged or sparse tensors to NumPy.\u001b[39;00m\n\u001b[1;32m    600\u001b[0m   \u001b[39mif\u001b[39;00m \u001b[39misinstance\u001b[39m(t, tf\u001b[39m.\u001b[39mTensor):\n\u001b[0;32m--> 601\u001b[0m     t \u001b[39m=\u001b[39m t\u001b[39m.\u001b[39;49mnumpy()\n\u001b[1;32m    602\u001b[0m   \u001b[39m# Strings, ragged and sparse tensors don't have .item(). Return them as-is.\u001b[39;00m\n\u001b[1;32m    603\u001b[0m   \u001b[39mif\u001b[39;00m \u001b[39mnot\u001b[39;00m \u001b[39misinstance\u001b[39m(t, (np\u001b[39m.\u001b[39mndarray, np\u001b[39m.\u001b[39mgeneric)):\n",
      "File \u001b[0;32m~/.conda/envs/tf2/lib/python3.8/site-packages/tensorflow/python/framework/ops.py:1159\u001b[0m, in \u001b[0;36m_EagerTensorBase.numpy\u001b[0;34m(self)\u001b[0m\n\u001b[1;32m   1136\u001b[0m \u001b[39m\"\"\"Copy of the contents of this Tensor into a NumPy array or scalar.\u001b[39;00m\n\u001b[1;32m   1137\u001b[0m \n\u001b[1;32m   1138\u001b[0m \u001b[39mUnlike NumPy arrays, Tensors are immutable, so this method has to copy\u001b[39;00m\n\u001b[0;32m   (...)\u001b[0m\n\u001b[1;32m   1156\u001b[0m \u001b[39m    NumPy dtype.\u001b[39;00m\n\u001b[1;32m   1157\u001b[0m \u001b[39m\"\"\"\u001b[39;00m\n\u001b[1;32m   1158\u001b[0m \u001b[39m# TODO(slebedev): Consider avoiding a copy for non-CPU or remote tensors.\u001b[39;00m\n\u001b[0;32m-> 1159\u001b[0m maybe_arr \u001b[39m=\u001b[39m \u001b[39mself\u001b[39;49m\u001b[39m.\u001b[39;49m_numpy()  \u001b[39m# pylint: disable=protected-access\u001b[39;00m\n\u001b[1;32m   1160\u001b[0m \u001b[39mreturn\u001b[39;00m maybe_arr\u001b[39m.\u001b[39mcopy() \u001b[39mif\u001b[39;00m \u001b[39misinstance\u001b[39m(maybe_arr, np\u001b[39m.\u001b[39mndarray) \u001b[39melse\u001b[39;00m maybe_arr\n",
      "File \u001b[0;32m~/.conda/envs/tf2/lib/python3.8/site-packages/tensorflow/python/framework/ops.py:1125\u001b[0m, in \u001b[0;36m_EagerTensorBase._numpy\u001b[0;34m(self)\u001b[0m\n\u001b[1;32m   1123\u001b[0m \u001b[39mdef\u001b[39;00m \u001b[39m_numpy\u001b[39m(\u001b[39mself\u001b[39m):\n\u001b[1;32m   1124\u001b[0m   \u001b[39mtry\u001b[39;00m:\n\u001b[0;32m-> 1125\u001b[0m     \u001b[39mreturn\u001b[39;00m \u001b[39mself\u001b[39;49m\u001b[39m.\u001b[39;49m_numpy_internal()\n\u001b[1;32m   1126\u001b[0m   \u001b[39mexcept\u001b[39;00m core\u001b[39m.\u001b[39m_NotOkStatusException \u001b[39mas\u001b[39;00m e:  \u001b[39m# pylint: disable=protected-access\u001b[39;00m\n\u001b[1;32m   1127\u001b[0m     \u001b[39mraise\u001b[39;00m core\u001b[39m.\u001b[39m_status_to_exception(e) \u001b[39mfrom\u001b[39;00m \u001b[39mNone\u001b[39m\n",
      "\u001b[0;31mKeyboardInterrupt\u001b[0m: "
     ]
    }
   ],
   "source": [
    "# Create the model  \n",
    "history=0\n",
    "model = CNN(dim_image=[75,75,2])\n",
    "model.compile(optimizer=tf.keras.optimizers.Adam(learning_rate), \n",
    "              loss=tf.keras.losses.CategoricalCrossentropy(from_logits=False),\n",
    "              metrics=['accuracy'])\n",
    "\n",
    "early_stopping = tf.keras.callbacks.EarlyStopping(monitor='val_loss', min_delta=min_delta, verbose=1, patience=patience)\n",
    "check_point    = tf.keras.callbacks.ModelCheckpoint(save_model_name, monitor='val_loss', \n",
    "                                                    verbose=1, save_best_only=True)\n",
    "\n",
    "history = model.fit(dataset_tr, validation_data=dataset_vl , epochs=train_epochs, batch_size=batch_size, callbacks=[early_stopping, check_point])"
   ]
  },
  {
   "cell_type": "markdown",
   "id": "cb89c986",
   "metadata": {},
   "source": [
    "## CNN2 "
   ]
  },
  {
   "cell_type": "code",
   "execution_count": 16,
   "id": "456d6aac",
   "metadata": {},
   "outputs": [],
   "source": [
    "class CNNsq(tf.keras.Model):\n",
    "    def __init__(self, name='CNNsq', dim_image=(75, 75, 2), n_class=3):\n",
    "        super(CNNsq, self).__init__(name=name)\n",
    "        \n",
    "        \"\"\"h2ptj Channel\"\"\"\n",
    "        self.h2ptj = tf.keras.Sequential([\n",
    "            # input tensor dimension must be (batch_size, rows, cols, channels)\n",
    "            tf.keras.layers.Lambda(lambda x: tf.expand_dims(x[:, :, :, 0], -1)),\n",
    "            tf.keras.layers.BatchNormalization(),\n",
    "            tf.keras.layers.Conv2D(32, (3,3), padding='same', activation='relu'),\n",
    "            tf.keras.layers.Conv2D(32, (3,3), padding='same', activation='relu'),\n",
    "            tf.keras.layers.MaxPool2D((2,2)),\n",
    "            tf.keras.layers.Conv2D(64, (3,3), padding='same', activation='relu'),\n",
    "            tf.keras.layers.MaxPool2D((2,2)),\n",
    "            tf.keras.layers.Conv2D(64, (3,3), padding='same', activation='relu'),\n",
    "            tf.keras.layers.MaxPool2D((2,2)),\n",
    "            tf.keras.layers.Conv2D(64, (3,3), padding='same', activation='relu'),\n",
    "            tf.keras.layers.Conv2D(64, (3,3), padding='same', activation='relu'),\n",
    "            tf.keras.layers.Conv2D(128, (5,5), padding='same', activation='relu'),\n",
    "            tf.keras.layers.Conv2D(256, (5,5), padding='same', activation='relu'),\n",
    "            tf.keras.layers.Dropout(0.5),\n",
    "            tf.keras.layers.Flatten(),\n",
    "            tf.keras.layers.Dense(256, activation='relu', kernel_regularizer=tf.keras.regularizers.L2(0.01)),\n",
    "            tf.keras.layers.Dropout(0.5),\n",
    "            tf.keras.layers.Dense(256, activation='relu', kernel_regularizer=tf.keras.regularizers.L2(0.01)),\n",
    "            tf.keras.layers.Dropout(0.5),\n",
    "        ])\n",
    "\n",
    "        \"\"\"h2Qkj Channel\"\"\"\n",
    "        self.h2Qkj = tf.keras.Sequential([\n",
    "            # input tensor dimension must be (batch_size, rows, cols, channels)\n",
    "            tf.keras.layers.Lambda(lambda x: tf.expand_dims(x[:, :, :, 1], -1)),\n",
    "            tf.keras.layers.BatchNormalization(),\n",
    "            tf.keras.layers.Conv2D(32, (3,3), padding='same', activation='relu', kernel_regularizer=tf.keras.regularizers.L2(0.01)),\n",
    "            tf.keras.layers.Conv2D(32, (3,3), padding='same', activation='relu'),\n",
    "            tf.keras.layers.MaxPool2D((2,2)),\n",
    "            tf.keras.layers.Conv2D(64, (4,4), padding='same', activation='relu'),\n",
    "            tf.keras.layers.Conv2D(64, (4,4), padding='same', activation='relu'),\n",
    "            tf.keras.layers.MaxPool2D((2,2)),\n",
    "            tf.keras.layers.Conv2D(256, (6,6), padding='same', activation='relu'),\n",
    "            tf.keras.layers.MaxPool2D((2,2)),\n",
    "            tf.keras.layers.Dropout(0.5),\n",
    "            tf.keras.layers.Flatten(),\n",
    "            tf.keras.layers.Dense(256, activation='relu', kernel_regularizer=tf.keras.regularizers.L2(0.01)),\n",
    "            tf.keras.layers.Dropout(0.5),\n",
    "        ])\n",
    "        \n",
    "        \"\"\"Output Layer\"\"\"\n",
    "        self._output = tf.keras.layers.Dense(n_class, activation='softmax')\n",
    "        \n",
    "    @tf.function\n",
    "    def call(self, inputs, training=False):\n",
    "        \"\"\"h2ptj\"\"\"\n",
    "        latent_h2ptj = self.h2ptj(inputs)\n",
    "\n",
    "        \"\"\"h2Qkj\"\"\"\n",
    "        latent_h2Qkj = self.h2Qkj(inputs)\n",
    "        \n",
    "        \"\"\"Output\"\"\"\n",
    "        latent_all = tf.concat([latent_h2ptj, latent_h2Qkj], axis=1)\n",
    "        \n",
    "        return self._output(latent_all)"
   ]
  },
  {
   "cell_type": "code",
   "execution_count": 19,
   "id": "515d84b4",
   "metadata": {},
   "outputs": [],
   "source": [
    "# Training parameters\n",
    "train_epochs = 500\n",
    "patience = 10\n",
    "min_delta = 0.\n",
    "learning_rate = 1e-4                                    \n",
    "save_model_name = f'best_model_CNNsq_kappa{kappa}-{nevent}/'"
   ]
  },
  {
   "cell_type": "code",
   "execution_count": 20,
   "id": "2ea90ce0",
   "metadata": {},
   "outputs": [
    {
     "name": "stdout",
     "output_type": "stream",
     "text": [
      "Epoch 1/500\n"
     ]
    },
    {
     "name": "stderr",
     "output_type": "stream",
     "text": [
      "2022-10-06 13:13:20.408412: I tensorflow/stream_executor/cuda/cuda_dnn.cc:384] Loaded cuDNN version 8401\n",
      "2022-10-06 13:13:31.728495: I tensorflow/core/platform/default/subprocess.cc:304] Start cannot spawn child process: No such file or directory\n",
      "2022-10-06 13:13:31.729413: I tensorflow/core/platform/default/subprocess.cc:304] Start cannot spawn child process: No such file or directory\n",
      "2022-10-06 13:13:31.729479: W tensorflow/stream_executor/gpu/asm_compiler.cc:80] Couldn't get ptxas version string: INTERNAL: Couldn't invoke ptxas --version\n",
      "2022-10-06 13:13:31.730384: I tensorflow/core/platform/default/subprocess.cc:304] Start cannot spawn child process: No such file or directory\n",
      "2022-10-06 13:13:31.730487: W tensorflow/stream_executor/gpu/redzone_allocator.cc:314] INTERNAL: Failed to launch ptxas\n",
      "Relying on driver to perform ptx compilation. \n",
      "Modify $PATH to customize ptxas location.\n",
      "This message will be only logged once.\n",
      "2022-10-06 13:13:33.657472: I tensorflow/stream_executor/cuda/cuda_blas.cc:1786] TensorFloat-32 will be used for the matrix multiplication. This will only be logged once.\n"
     ]
    },
    {
     "name": "stdout",
     "output_type": "stream",
     "text": [
      "     66/Unknown - 41s 116ms/step - loss: 9.5441 - accuracy: 0.4212\n",
      "Epoch 1: val_loss improved from inf to 6.42228, saving model to best_model_CNN2_kappa0.15-100k/\n"
     ]
    },
    {
     "name": "stderr",
     "output_type": "stream",
     "text": [
      "WARNING:absl:Found untraced functions such as _jit_compiled_convolution_op, _jit_compiled_convolution_op, _jit_compiled_convolution_op, _jit_compiled_convolution_op, _jit_compiled_convolution_op while saving (showing 5 of 13). These functions will not be directly callable after loading.\n"
     ]
    },
    {
     "name": "stdout",
     "output_type": "stream",
     "text": [
      "INFO:tensorflow:Assets written to: best_model_CNN2_kappa0.15-100k/assets\n"
     ]
    },
    {
     "name": "stderr",
     "output_type": "stream",
     "text": [
      "INFO:tensorflow:Assets written to: best_model_CNN2_kappa0.15-100k/assets\n"
     ]
    },
    {
     "name": "stdout",
     "output_type": "stream",
     "text": [
      "66/66 [==============================] - 48s 217ms/step - loss: 9.5441 - accuracy: 0.4212 - val_loss: 6.4223 - val_accuracy: 0.4458\n",
      "Epoch 2/500\n",
      "66/66 [==============================] - ETA: 0s - loss: 4.8420 - accuracy: 0.5396\n",
      "Epoch 2: val_loss improved from 6.42228 to 3.82283, saving model to best_model_CNN2_kappa0.15-100k/\n"
     ]
    },
    {
     "name": "stderr",
     "output_type": "stream",
     "text": [
      "WARNING:absl:Found untraced functions such as _jit_compiled_convolution_op, _jit_compiled_convolution_op, _jit_compiled_convolution_op, _jit_compiled_convolution_op, _jit_compiled_convolution_op while saving (showing 5 of 13). These functions will not be directly callable after loading.\n"
     ]
    },
    {
     "name": "stdout",
     "output_type": "stream",
     "text": [
      "INFO:tensorflow:Assets written to: best_model_CNN2_kappa0.15-100k/assets\n"
     ]
    },
    {
     "name": "stderr",
     "output_type": "stream",
     "text": [
      "INFO:tensorflow:Assets written to: best_model_CNN2_kappa0.15-100k/assets\n"
     ]
    },
    {
     "name": "stdout",
     "output_type": "stream",
     "text": [
      "66/66 [==============================] - 12s 182ms/step - loss: 4.8420 - accuracy: 0.5396 - val_loss: 3.8228 - val_accuracy: 0.5616\n",
      "Epoch 3/500\n",
      "66/66 [==============================] - ETA: 0s - loss: 3.1477 - accuracy: 0.6162\n",
      "Epoch 3: val_loss improved from 3.82283 to 2.86134, saving model to best_model_CNN2_kappa0.15-100k/\n"
     ]
    },
    {
     "name": "stderr",
     "output_type": "stream",
     "text": [
      "WARNING:absl:Found untraced functions such as _jit_compiled_convolution_op, _jit_compiled_convolution_op, _jit_compiled_convolution_op, _jit_compiled_convolution_op, _jit_compiled_convolution_op while saving (showing 5 of 13). These functions will not be directly callable after loading.\n"
     ]
    },
    {
     "name": "stdout",
     "output_type": "stream",
     "text": [
      "INFO:tensorflow:Assets written to: best_model_CNN2_kappa0.15-100k/assets\n"
     ]
    },
    {
     "name": "stderr",
     "output_type": "stream",
     "text": [
      "INFO:tensorflow:Assets written to: best_model_CNN2_kappa0.15-100k/assets\n"
     ]
    },
    {
     "name": "stdout",
     "output_type": "stream",
     "text": [
      "66/66 [==============================] - 12s 186ms/step - loss: 3.1477 - accuracy: 0.6162 - val_loss: 2.8613 - val_accuracy: 0.5828\n",
      "Epoch 4/500\n",
      "66/66 [==============================] - ETA: 0s - loss: 2.4813 - accuracy: 0.6238\n",
      "Epoch 4: val_loss improved from 2.86134 to 2.38983, saving model to best_model_CNN2_kappa0.15-100k/\n"
     ]
    },
    {
     "name": "stderr",
     "output_type": "stream",
     "text": [
      "WARNING:absl:Found untraced functions such as _jit_compiled_convolution_op, _jit_compiled_convolution_op, _jit_compiled_convolution_op, _jit_compiled_convolution_op, _jit_compiled_convolution_op while saving (showing 5 of 13). These functions will not be directly callable after loading.\n"
     ]
    },
    {
     "name": "stdout",
     "output_type": "stream",
     "text": [
      "INFO:tensorflow:Assets written to: best_model_CNN2_kappa0.15-100k/assets\n"
     ]
    },
    {
     "name": "stderr",
     "output_type": "stream",
     "text": [
      "INFO:tensorflow:Assets written to: best_model_CNN2_kappa0.15-100k/assets\n"
     ]
    },
    {
     "name": "stdout",
     "output_type": "stream",
     "text": [
      "66/66 [==============================] - 13s 192ms/step - loss: 2.4813 - accuracy: 0.6238 - val_loss: 2.3898 - val_accuracy: 0.5939\n",
      "Epoch 5/500\n",
      "66/66 [==============================] - ETA: 0s - loss: 2.1190 - accuracy: 0.6296\n",
      "Epoch 5: val_loss improved from 2.38983 to 2.08384, saving model to best_model_CNN2_kappa0.15-100k/\n"
     ]
    },
    {
     "name": "stderr",
     "output_type": "stream",
     "text": [
      "WARNING:absl:Found untraced functions such as _jit_compiled_convolution_op, _jit_compiled_convolution_op, _jit_compiled_convolution_op, _jit_compiled_convolution_op, _jit_compiled_convolution_op while saving (showing 5 of 13). These functions will not be directly callable after loading.\n"
     ]
    },
    {
     "name": "stdout",
     "output_type": "stream",
     "text": [
      "INFO:tensorflow:Assets written to: best_model_CNN2_kappa0.15-100k/assets\n"
     ]
    },
    {
     "name": "stderr",
     "output_type": "stream",
     "text": [
      "INFO:tensorflow:Assets written to: best_model_CNN2_kappa0.15-100k/assets\n"
     ]
    },
    {
     "name": "stdout",
     "output_type": "stream",
     "text": [
      "66/66 [==============================] - 12s 181ms/step - loss: 2.1190 - accuracy: 0.6296 - val_loss: 2.0838 - val_accuracy: 0.5964\n",
      "Epoch 6/500\n",
      "66/66 [==============================] - ETA: 0s - loss: 1.8671 - accuracy: 0.6327\n",
      "Epoch 6: val_loss improved from 2.08384 to 1.84564, saving model to best_model_CNN2_kappa0.15-100k/\n"
     ]
    },
    {
     "name": "stderr",
     "output_type": "stream",
     "text": [
      "WARNING:absl:Found untraced functions such as _jit_compiled_convolution_op, _jit_compiled_convolution_op, _jit_compiled_convolution_op, _jit_compiled_convolution_op, _jit_compiled_convolution_op while saving (showing 5 of 13). These functions will not be directly callable after loading.\n"
     ]
    },
    {
     "name": "stdout",
     "output_type": "stream",
     "text": [
      "INFO:tensorflow:Assets written to: best_model_CNN2_kappa0.15-100k/assets\n"
     ]
    },
    {
     "name": "stderr",
     "output_type": "stream",
     "text": [
      "INFO:tensorflow:Assets written to: best_model_CNN2_kappa0.15-100k/assets\n"
     ]
    },
    {
     "name": "stdout",
     "output_type": "stream",
     "text": [
      "66/66 [==============================] - 13s 191ms/step - loss: 1.8671 - accuracy: 0.6327 - val_loss: 1.8456 - val_accuracy: 0.6124\n",
      "Epoch 7/500\n",
      "66/66 [==============================] - ETA: 0s - loss: 1.6724 - accuracy: 0.6352\n",
      "Epoch 7: val_loss improved from 1.84564 to 1.65154, saving model to best_model_CNN2_kappa0.15-100k/\n"
     ]
    },
    {
     "name": "stderr",
     "output_type": "stream",
     "text": [
      "WARNING:absl:Found untraced functions such as _jit_compiled_convolution_op, _jit_compiled_convolution_op, _jit_compiled_convolution_op, _jit_compiled_convolution_op, _jit_compiled_convolution_op while saving (showing 5 of 13). These functions will not be directly callable after loading.\n"
     ]
    },
    {
     "name": "stdout",
     "output_type": "stream",
     "text": [
      "INFO:tensorflow:Assets written to: best_model_CNN2_kappa0.15-100k/assets\n"
     ]
    },
    {
     "name": "stderr",
     "output_type": "stream",
     "text": [
      "INFO:tensorflow:Assets written to: best_model_CNN2_kappa0.15-100k/assets\n"
     ]
    },
    {
     "name": "stdout",
     "output_type": "stream",
     "text": [
      "66/66 [==============================] - 13s 192ms/step - loss: 1.6724 - accuracy: 0.6352 - val_loss: 1.6515 - val_accuracy: 0.6143\n",
      "Epoch 8/500\n",
      "66/66 [==============================] - ETA: 0s - loss: 1.5150 - accuracy: 0.6379\n",
      "Epoch 8: val_loss improved from 1.65154 to 1.49452, saving model to best_model_CNN2_kappa0.15-100k/\n"
     ]
    },
    {
     "name": "stderr",
     "output_type": "stream",
     "text": [
      "WARNING:absl:Found untraced functions such as _jit_compiled_convolution_op, _jit_compiled_convolution_op, _jit_compiled_convolution_op, _jit_compiled_convolution_op, _jit_compiled_convolution_op while saving (showing 5 of 13). These functions will not be directly callable after loading.\n"
     ]
    },
    {
     "name": "stdout",
     "output_type": "stream",
     "text": [
      "INFO:tensorflow:Assets written to: best_model_CNN2_kappa0.15-100k/assets\n"
     ]
    },
    {
     "name": "stderr",
     "output_type": "stream",
     "text": [
      "INFO:tensorflow:Assets written to: best_model_CNN2_kappa0.15-100k/assets\n"
     ]
    },
    {
     "name": "stdout",
     "output_type": "stream",
     "text": [
      "66/66 [==============================] - 13s 192ms/step - loss: 1.5150 - accuracy: 0.6379 - val_loss: 1.4945 - val_accuracy: 0.6178\n",
      "Epoch 9/500\n",
      "66/66 [==============================] - ETA: 0s - loss: 1.3884 - accuracy: 0.6405\n",
      "Epoch 9: val_loss improved from 1.49452 to 1.36333, saving model to best_model_CNN2_kappa0.15-100k/\n"
     ]
    },
    {
     "name": "stderr",
     "output_type": "stream",
     "text": [
      "WARNING:absl:Found untraced functions such as _jit_compiled_convolution_op, _jit_compiled_convolution_op, _jit_compiled_convolution_op, _jit_compiled_convolution_op, _jit_compiled_convolution_op while saving (showing 5 of 13). These functions will not be directly callable after loading.\n"
     ]
    },
    {
     "name": "stdout",
     "output_type": "stream",
     "text": [
      "INFO:tensorflow:Assets written to: best_model_CNN2_kappa0.15-100k/assets\n"
     ]
    },
    {
     "name": "stderr",
     "output_type": "stream",
     "text": [
      "INFO:tensorflow:Assets written to: best_model_CNN2_kappa0.15-100k/assets\n"
     ]
    },
    {
     "name": "stdout",
     "output_type": "stream",
     "text": [
      "66/66 [==============================] - 12s 183ms/step - loss: 1.3884 - accuracy: 0.6405 - val_loss: 1.3633 - val_accuracy: 0.6267\n",
      "Epoch 10/500\n",
      "66/66 [==============================] - ETA: 0s - loss: 1.2809 - accuracy: 0.6426\n",
      "Epoch 10: val_loss improved from 1.36333 to 1.26224, saving model to best_model_CNN2_kappa0.15-100k/\n"
     ]
    },
    {
     "name": "stderr",
     "output_type": "stream",
     "text": [
      "WARNING:absl:Found untraced functions such as _jit_compiled_convolution_op, _jit_compiled_convolution_op, _jit_compiled_convolution_op, _jit_compiled_convolution_op, _jit_compiled_convolution_op while saving (showing 5 of 13). These functions will not be directly callable after loading.\n"
     ]
    },
    {
     "name": "stdout",
     "output_type": "stream",
     "text": [
      "INFO:tensorflow:Assets written to: best_model_CNN2_kappa0.15-100k/assets\n"
     ]
    },
    {
     "name": "stderr",
     "output_type": "stream",
     "text": [
      "INFO:tensorflow:Assets written to: best_model_CNN2_kappa0.15-100k/assets\n"
     ]
    },
    {
     "name": "stdout",
     "output_type": "stream",
     "text": [
      "66/66 [==============================] - 12s 189ms/step - loss: 1.2809 - accuracy: 0.6426 - val_loss: 1.2622 - val_accuracy: 0.6296\n",
      "Epoch 11/500\n",
      "66/66 [==============================] - ETA: 0s - loss: 1.1955 - accuracy: 0.6452\n",
      "Epoch 11: val_loss improved from 1.26224 to 1.17915, saving model to best_model_CNN2_kappa0.15-100k/\n"
     ]
    },
    {
     "name": "stderr",
     "output_type": "stream",
     "text": [
      "WARNING:absl:Found untraced functions such as _jit_compiled_convolution_op, _jit_compiled_convolution_op, _jit_compiled_convolution_op, _jit_compiled_convolution_op, _jit_compiled_convolution_op while saving (showing 5 of 13). These functions will not be directly callable after loading.\n"
     ]
    },
    {
     "name": "stdout",
     "output_type": "stream",
     "text": [
      "INFO:tensorflow:Assets written to: best_model_CNN2_kappa0.15-100k/assets\n"
     ]
    },
    {
     "name": "stderr",
     "output_type": "stream",
     "text": [
      "INFO:tensorflow:Assets written to: best_model_CNN2_kappa0.15-100k/assets\n"
     ]
    },
    {
     "name": "stdout",
     "output_type": "stream",
     "text": [
      "66/66 [==============================] - 12s 183ms/step - loss: 1.1955 - accuracy: 0.6452 - val_loss: 1.1791 - val_accuracy: 0.6340\n",
      "Epoch 12/500\n",
      "66/66 [==============================] - ETA: 0s - loss: 1.1263 - accuracy: 0.6442\n",
      "Epoch 12: val_loss improved from 1.17915 to 1.11681, saving model to best_model_CNN2_kappa0.15-100k/\n"
     ]
    },
    {
     "name": "stderr",
     "output_type": "stream",
     "text": [
      "WARNING:absl:Found untraced functions such as _jit_compiled_convolution_op, _jit_compiled_convolution_op, _jit_compiled_convolution_op, _jit_compiled_convolution_op, _jit_compiled_convolution_op while saving (showing 5 of 13). These functions will not be directly callable after loading.\n"
     ]
    },
    {
     "name": "stdout",
     "output_type": "stream",
     "text": [
      "INFO:tensorflow:Assets written to: best_model_CNN2_kappa0.15-100k/assets\n"
     ]
    },
    {
     "name": "stderr",
     "output_type": "stream",
     "text": [
      "INFO:tensorflow:Assets written to: best_model_CNN2_kappa0.15-100k/assets\n"
     ]
    },
    {
     "name": "stdout",
     "output_type": "stream",
     "text": [
      "66/66 [==============================] - 12s 180ms/step - loss: 1.1263 - accuracy: 0.6442 - val_loss: 1.1168 - val_accuracy: 0.6322\n",
      "Epoch 13/500\n",
      "66/66 [==============================] - ETA: 0s - loss: 1.0647 - accuracy: 0.6458\n",
      "Epoch 13: val_loss improved from 1.11681 to 1.06180, saving model to best_model_CNN2_kappa0.15-100k/\n"
     ]
    },
    {
     "name": "stderr",
     "output_type": "stream",
     "text": [
      "WARNING:absl:Found untraced functions such as _jit_compiled_convolution_op, _jit_compiled_convolution_op, _jit_compiled_convolution_op, _jit_compiled_convolution_op, _jit_compiled_convolution_op while saving (showing 5 of 13). These functions will not be directly callable after loading.\n"
     ]
    },
    {
     "name": "stdout",
     "output_type": "stream",
     "text": [
      "INFO:tensorflow:Assets written to: best_model_CNN2_kappa0.15-100k/assets\n"
     ]
    },
    {
     "name": "stderr",
     "output_type": "stream",
     "text": [
      "INFO:tensorflow:Assets written to: best_model_CNN2_kappa0.15-100k/assets\n"
     ]
    },
    {
     "name": "stdout",
     "output_type": "stream",
     "text": [
      "66/66 [==============================] - 12s 186ms/step - loss: 1.0647 - accuracy: 0.6458 - val_loss: 1.0618 - val_accuracy: 0.6373\n",
      "Epoch 14/500\n",
      "66/66 [==============================] - ETA: 0s - loss: 1.0173 - accuracy: 0.6507\n",
      "Epoch 14: val_loss improved from 1.06180 to 1.02186, saving model to best_model_CNN2_kappa0.15-100k/\n"
     ]
    },
    {
     "name": "stderr",
     "output_type": "stream",
     "text": [
      "WARNING:absl:Found untraced functions such as _jit_compiled_convolution_op, _jit_compiled_convolution_op, _jit_compiled_convolution_op, _jit_compiled_convolution_op, _jit_compiled_convolution_op while saving (showing 5 of 13). These functions will not be directly callable after loading.\n"
     ]
    },
    {
     "name": "stdout",
     "output_type": "stream",
     "text": [
      "INFO:tensorflow:Assets written to: best_model_CNN2_kappa0.15-100k/assets\n"
     ]
    },
    {
     "name": "stderr",
     "output_type": "stream",
     "text": [
      "INFO:tensorflow:Assets written to: best_model_CNN2_kappa0.15-100k/assets\n"
     ]
    },
    {
     "name": "stdout",
     "output_type": "stream",
     "text": [
      "66/66 [==============================] - 12s 186ms/step - loss: 1.0173 - accuracy: 0.6507 - val_loss: 1.0219 - val_accuracy: 0.6382\n",
      "Epoch 15/500\n",
      "66/66 [==============================] - ETA: 0s - loss: 0.9770 - accuracy: 0.6511\n",
      "Epoch 15: val_loss improved from 1.02186 to 0.99053, saving model to best_model_CNN2_kappa0.15-100k/\n"
     ]
    },
    {
     "name": "stderr",
     "output_type": "stream",
     "text": [
      "WARNING:absl:Found untraced functions such as _jit_compiled_convolution_op, _jit_compiled_convolution_op, _jit_compiled_convolution_op, _jit_compiled_convolution_op, _jit_compiled_convolution_op while saving (showing 5 of 13). These functions will not be directly callable after loading.\n"
     ]
    },
    {
     "name": "stdout",
     "output_type": "stream",
     "text": [
      "INFO:tensorflow:Assets written to: best_model_CNN2_kappa0.15-100k/assets\n"
     ]
    },
    {
     "name": "stderr",
     "output_type": "stream",
     "text": [
      "INFO:tensorflow:Assets written to: best_model_CNN2_kappa0.15-100k/assets\n"
     ]
    },
    {
     "name": "stdout",
     "output_type": "stream",
     "text": [
      "66/66 [==============================] - 12s 179ms/step - loss: 0.9770 - accuracy: 0.6511 - val_loss: 0.9905 - val_accuracy: 0.6373\n",
      "Epoch 16/500\n",
      "66/66 [==============================] - ETA: 0s - loss: 0.9465 - accuracy: 0.6528\n",
      "Epoch 16: val_loss improved from 0.99053 to 0.96659, saving model to best_model_CNN2_kappa0.15-100k/\n"
     ]
    },
    {
     "name": "stderr",
     "output_type": "stream",
     "text": [
      "WARNING:absl:Found untraced functions such as _jit_compiled_convolution_op, _jit_compiled_convolution_op, _jit_compiled_convolution_op, _jit_compiled_convolution_op, _jit_compiled_convolution_op while saving (showing 5 of 13). These functions will not be directly callable after loading.\n"
     ]
    },
    {
     "name": "stdout",
     "output_type": "stream",
     "text": [
      "INFO:tensorflow:Assets written to: best_model_CNN2_kappa0.15-100k/assets\n"
     ]
    },
    {
     "name": "stderr",
     "output_type": "stream",
     "text": [
      "INFO:tensorflow:Assets written to: best_model_CNN2_kappa0.15-100k/assets\n"
     ]
    },
    {
     "name": "stdout",
     "output_type": "stream",
     "text": [
      "66/66 [==============================] - 12s 184ms/step - loss: 0.9465 - accuracy: 0.6528 - val_loss: 0.9666 - val_accuracy: 0.6395\n",
      "Epoch 17/500\n",
      "66/66 [==============================] - ETA: 0s - loss: 0.9184 - accuracy: 0.6575\n",
      "Epoch 17: val_loss improved from 0.96659 to 0.94268, saving model to best_model_CNN2_kappa0.15-100k/\n"
     ]
    },
    {
     "name": "stderr",
     "output_type": "stream",
     "text": [
      "WARNING:absl:Found untraced functions such as _jit_compiled_convolution_op, _jit_compiled_convolution_op, _jit_compiled_convolution_op, _jit_compiled_convolution_op, _jit_compiled_convolution_op while saving (showing 5 of 13). These functions will not be directly callable after loading.\n"
     ]
    },
    {
     "name": "stdout",
     "output_type": "stream",
     "text": [
      "INFO:tensorflow:Assets written to: best_model_CNN2_kappa0.15-100k/assets\n"
     ]
    },
    {
     "name": "stderr",
     "output_type": "stream",
     "text": [
      "INFO:tensorflow:Assets written to: best_model_CNN2_kappa0.15-100k/assets\n"
     ]
    },
    {
     "name": "stdout",
     "output_type": "stream",
     "text": [
      "66/66 [==============================] - 12s 181ms/step - loss: 0.9184 - accuracy: 0.6575 - val_loss: 0.9427 - val_accuracy: 0.6426\n",
      "Epoch 18/500\n",
      "66/66 [==============================] - ETA: 0s - loss: 0.8958 - accuracy: 0.6575\n",
      "Epoch 18: val_loss improved from 0.94268 to 0.92268, saving model to best_model_CNN2_kappa0.15-100k/\n"
     ]
    },
    {
     "name": "stderr",
     "output_type": "stream",
     "text": [
      "WARNING:absl:Found untraced functions such as _jit_compiled_convolution_op, _jit_compiled_convolution_op, _jit_compiled_convolution_op, _jit_compiled_convolution_op, _jit_compiled_convolution_op while saving (showing 5 of 13). These functions will not be directly callable after loading.\n"
     ]
    },
    {
     "name": "stdout",
     "output_type": "stream",
     "text": [
      "INFO:tensorflow:Assets written to: best_model_CNN2_kappa0.15-100k/assets\n"
     ]
    },
    {
     "name": "stderr",
     "output_type": "stream",
     "text": [
      "INFO:tensorflow:Assets written to: best_model_CNN2_kappa0.15-100k/assets\n"
     ]
    },
    {
     "name": "stdout",
     "output_type": "stream",
     "text": [
      "66/66 [==============================] - 12s 177ms/step - loss: 0.8958 - accuracy: 0.6575 - val_loss: 0.9227 - val_accuracy: 0.6427\n",
      "Epoch 19/500\n",
      "66/66 [==============================] - ETA: 0s - loss: 0.8795 - accuracy: 0.6591\n",
      "Epoch 19: val_loss improved from 0.92268 to 0.91165, saving model to best_model_CNN2_kappa0.15-100k/\n"
     ]
    },
    {
     "name": "stderr",
     "output_type": "stream",
     "text": [
      "WARNING:absl:Found untraced functions such as _jit_compiled_convolution_op, _jit_compiled_convolution_op, _jit_compiled_convolution_op, _jit_compiled_convolution_op, _jit_compiled_convolution_op while saving (showing 5 of 13). These functions will not be directly callable after loading.\n"
     ]
    },
    {
     "name": "stdout",
     "output_type": "stream",
     "text": [
      "INFO:tensorflow:Assets written to: best_model_CNN2_kappa0.15-100k/assets\n"
     ]
    },
    {
     "name": "stderr",
     "output_type": "stream",
     "text": [
      "INFO:tensorflow:Assets written to: best_model_CNN2_kappa0.15-100k/assets\n"
     ]
    },
    {
     "name": "stdout",
     "output_type": "stream",
     "text": [
      "66/66 [==============================] - 12s 184ms/step - loss: 0.8795 - accuracy: 0.6591 - val_loss: 0.9116 - val_accuracy: 0.6434\n",
      "Epoch 20/500\n",
      "66/66 [==============================] - ETA: 0s - loss: 0.8610 - accuracy: 0.6634\n",
      "Epoch 20: val_loss improved from 0.91165 to 0.89817, saving model to best_model_CNN2_kappa0.15-100k/\n"
     ]
    },
    {
     "name": "stderr",
     "output_type": "stream",
     "text": [
      "WARNING:absl:Found untraced functions such as _jit_compiled_convolution_op, _jit_compiled_convolution_op, _jit_compiled_convolution_op, _jit_compiled_convolution_op, _jit_compiled_convolution_op while saving (showing 5 of 13). These functions will not be directly callable after loading.\n"
     ]
    },
    {
     "name": "stdout",
     "output_type": "stream",
     "text": [
      "INFO:tensorflow:Assets written to: best_model_CNN2_kappa0.15-100k/assets\n"
     ]
    },
    {
     "name": "stderr",
     "output_type": "stream",
     "text": [
      "INFO:tensorflow:Assets written to: best_model_CNN2_kappa0.15-100k/assets\n"
     ]
    },
    {
     "name": "stdout",
     "output_type": "stream",
     "text": [
      "66/66 [==============================] - 12s 182ms/step - loss: 0.8610 - accuracy: 0.6634 - val_loss: 0.8982 - val_accuracy: 0.6456\n",
      "Epoch 21/500\n",
      "66/66 [==============================] - ETA: 0s - loss: 0.8518 - accuracy: 0.6651\n",
      "Epoch 21: val_loss did not improve from 0.89817\n",
      "66/66 [==============================] - 8s 128ms/step - loss: 0.8518 - accuracy: 0.6651 - val_loss: 0.8991 - val_accuracy: 0.6394\n",
      "Epoch 22/500\n",
      "66/66 [==============================] - ETA: 0s - loss: 0.8360 - accuracy: 0.6676\n",
      "Epoch 22: val_loss improved from 0.89817 to 0.88147, saving model to best_model_CNN2_kappa0.15-100k/\n"
     ]
    },
    {
     "name": "stderr",
     "output_type": "stream",
     "text": [
      "WARNING:absl:Found untraced functions such as _jit_compiled_convolution_op, _jit_compiled_convolution_op, _jit_compiled_convolution_op, _jit_compiled_convolution_op, _jit_compiled_convolution_op while saving (showing 5 of 13). These functions will not be directly callable after loading.\n"
     ]
    },
    {
     "name": "stdout",
     "output_type": "stream",
     "text": [
      "INFO:tensorflow:Assets written to: best_model_CNN2_kappa0.15-100k/assets\n"
     ]
    },
    {
     "name": "stderr",
     "output_type": "stream",
     "text": [
      "INFO:tensorflow:Assets written to: best_model_CNN2_kappa0.15-100k/assets\n"
     ]
    },
    {
     "name": "stdout",
     "output_type": "stream",
     "text": [
      "66/66 [==============================] - 12s 180ms/step - loss: 0.8360 - accuracy: 0.6676 - val_loss: 0.8815 - val_accuracy: 0.6451\n",
      "Epoch 23/500\n",
      "66/66 [==============================] - ETA: 0s - loss: 0.8308 - accuracy: 0.6699\n",
      "Epoch 23: val_loss did not improve from 0.88147\n",
      "66/66 [==============================] - 8s 128ms/step - loss: 0.8308 - accuracy: 0.6699 - val_loss: 0.8905 - val_accuracy: 0.6382\n",
      "Epoch 24/500\n",
      "66/66 [==============================] - ETA: 0s - loss: 0.8171 - accuracy: 0.6741\n",
      "Epoch 24: val_loss improved from 0.88147 to 0.87892, saving model to best_model_CNN2_kappa0.15-100k/\n"
     ]
    },
    {
     "name": "stderr",
     "output_type": "stream",
     "text": [
      "WARNING:absl:Found untraced functions such as _jit_compiled_convolution_op, _jit_compiled_convolution_op, _jit_compiled_convolution_op, _jit_compiled_convolution_op, _jit_compiled_convolution_op while saving (showing 5 of 13). These functions will not be directly callable after loading.\n"
     ]
    },
    {
     "name": "stdout",
     "output_type": "stream",
     "text": [
      "INFO:tensorflow:Assets written to: best_model_CNN2_kappa0.15-100k/assets\n"
     ]
    },
    {
     "name": "stderr",
     "output_type": "stream",
     "text": [
      "INFO:tensorflow:Assets written to: best_model_CNN2_kappa0.15-100k/assets\n"
     ]
    },
    {
     "name": "stdout",
     "output_type": "stream",
     "text": [
      "66/66 [==============================] - 12s 183ms/step - loss: 0.8171 - accuracy: 0.6741 - val_loss: 0.8789 - val_accuracy: 0.6429\n",
      "Epoch 25/500\n",
      "66/66 [==============================] - ETA: 0s - loss: 0.8065 - accuracy: 0.6808\n",
      "Epoch 25: val_loss improved from 0.87892 to 0.87412, saving model to best_model_CNN2_kappa0.15-100k/\n"
     ]
    },
    {
     "name": "stderr",
     "output_type": "stream",
     "text": [
      "WARNING:absl:Found untraced functions such as _jit_compiled_convolution_op, _jit_compiled_convolution_op, _jit_compiled_convolution_op, _jit_compiled_convolution_op, _jit_compiled_convolution_op while saving (showing 5 of 13). These functions will not be directly callable after loading.\n"
     ]
    },
    {
     "name": "stdout",
     "output_type": "stream",
     "text": [
      "INFO:tensorflow:Assets written to: best_model_CNN2_kappa0.15-100k/assets\n"
     ]
    },
    {
     "name": "stderr",
     "output_type": "stream",
     "text": [
      "INFO:tensorflow:Assets written to: best_model_CNN2_kappa0.15-100k/assets\n"
     ]
    },
    {
     "name": "stdout",
     "output_type": "stream",
     "text": [
      "66/66 [==============================] - 12s 181ms/step - loss: 0.8065 - accuracy: 0.6808 - val_loss: 0.8741 - val_accuracy: 0.6460\n",
      "Epoch 26/500\n",
      "66/66 [==============================] - ETA: 0s - loss: 0.8103 - accuracy: 0.6761\n",
      "Epoch 26: val_loss did not improve from 0.87412\n",
      "66/66 [==============================] - 8s 128ms/step - loss: 0.8103 - accuracy: 0.6761 - val_loss: 0.8761 - val_accuracy: 0.6400\n",
      "Epoch 27/500\n",
      "66/66 [==============================] - ETA: 0s - loss: 0.7939 - accuracy: 0.6865\n",
      "Epoch 27: val_loss improved from 0.87412 to 0.87055, saving model to best_model_CNN2_kappa0.15-100k/\n"
     ]
    },
    {
     "name": "stderr",
     "output_type": "stream",
     "text": [
      "WARNING:absl:Found untraced functions such as _jit_compiled_convolution_op, _jit_compiled_convolution_op, _jit_compiled_convolution_op, _jit_compiled_convolution_op, _jit_compiled_convolution_op while saving (showing 5 of 13). These functions will not be directly callable after loading.\n"
     ]
    },
    {
     "name": "stdout",
     "output_type": "stream",
     "text": [
      "INFO:tensorflow:Assets written to: best_model_CNN2_kappa0.15-100k/assets\n"
     ]
    },
    {
     "name": "stderr",
     "output_type": "stream",
     "text": [
      "INFO:tensorflow:Assets written to: best_model_CNN2_kappa0.15-100k/assets\n"
     ]
    },
    {
     "name": "stdout",
     "output_type": "stream",
     "text": [
      "66/66 [==============================] - 12s 179ms/step - loss: 0.7939 - accuracy: 0.6865 - val_loss: 0.8705 - val_accuracy: 0.6478\n",
      "Epoch 28/500\n",
      "66/66 [==============================] - ETA: 0s - loss: 0.7983 - accuracy: 0.6826\n",
      "Epoch 28: val_loss did not improve from 0.87055\n",
      "66/66 [==============================] - 8s 128ms/step - loss: 0.7983 - accuracy: 0.6826 - val_loss: 0.8850 - val_accuracy: 0.6400\n",
      "Epoch 29/500\n",
      "66/66 [==============================] - ETA: 0s - loss: 0.7972 - accuracy: 0.6841\n",
      "Epoch 29: val_loss did not improve from 0.87055\n",
      "66/66 [==============================] - 8s 128ms/step - loss: 0.7972 - accuracy: 0.6841 - val_loss: 0.8718 - val_accuracy: 0.6416\n",
      "Epoch 30/500\n",
      "66/66 [==============================] - ETA: 0s - loss: 0.7863 - accuracy: 0.6884\n",
      "Epoch 30: val_loss did not improve from 0.87055\n",
      "66/66 [==============================] - 8s 128ms/step - loss: 0.7863 - accuracy: 0.6884 - val_loss: 0.8812 - val_accuracy: 0.6403\n",
      "Epoch 31/500\n",
      "66/66 [==============================] - ETA: 0s - loss: 0.7836 - accuracy: 0.6896\n",
      "Epoch 31: val_loss did not improve from 0.87055\n",
      "66/66 [==============================] - 8s 128ms/step - loss: 0.7836 - accuracy: 0.6896 - val_loss: 0.8736 - val_accuracy: 0.6394\n",
      "Epoch 32/500\n",
      "66/66 [==============================] - ETA: 0s - loss: 0.7771 - accuracy: 0.6917\n",
      "Epoch 32: val_loss did not improve from 0.87055\n",
      "66/66 [==============================] - 8s 127ms/step - loss: 0.7771 - accuracy: 0.6917 - val_loss: 0.8781 - val_accuracy: 0.6416\n",
      "Epoch 33/500\n",
      "66/66 [==============================] - ETA: 0s - loss: 0.7639 - accuracy: 0.7018\n",
      "Epoch 33: val_loss did not improve from 0.87055\n",
      "66/66 [==============================] - 8s 128ms/step - loss: 0.7639 - accuracy: 0.7018 - val_loss: 0.8831 - val_accuracy: 0.6421\n",
      "Epoch 34/500\n",
      "66/66 [==============================] - ETA: 0s - loss: 0.7576 - accuracy: 0.7055\n",
      "Epoch 34: val_loss did not improve from 0.87055\n",
      "66/66 [==============================] - 8s 128ms/step - loss: 0.7576 - accuracy: 0.7055 - val_loss: 0.8866 - val_accuracy: 0.6427\n",
      "Epoch 35/500\n",
      "66/66 [==============================] - ETA: 0s - loss: 0.7549 - accuracy: 0.7096\n",
      "Epoch 35: val_loss did not improve from 0.87055\n",
      "66/66 [==============================] - 8s 128ms/step - loss: 0.7549 - accuracy: 0.7096 - val_loss: 0.8922 - val_accuracy: 0.6425\n",
      "Epoch 36/500\n",
      "66/66 [==============================] - ETA: 0s - loss: 0.7496 - accuracy: 0.7128\n",
      "Epoch 36: val_loss did not improve from 0.87055\n",
      "66/66 [==============================] - 8s 128ms/step - loss: 0.7496 - accuracy: 0.7128 - val_loss: 0.9041 - val_accuracy: 0.6431\n",
      "Epoch 37/500\n",
      "66/66 [==============================] - ETA: 0s - loss: 0.7620 - accuracy: 0.7044\n",
      "Epoch 37: val_loss did not improve from 0.87055\n",
      "66/66 [==============================] - 8s 128ms/step - loss: 0.7620 - accuracy: 0.7044 - val_loss: 0.8879 - val_accuracy: 0.6378\n",
      "Epoch 37: early stopping\n"
     ]
    }
   ],
   "source": [
    "# Create the model  \n",
    "history=0\n",
    "model = CNNsq(dim_image=[75,75,2])\n",
    "model.compile(optimizer=tf.keras.optimizers.Adam(learning_rate), \n",
    "              loss=tf.keras.losses.CategoricalCrossentropy(from_logits=False),\n",
    "              metrics=['accuracy'])\n",
    "\n",
    "early_stopping = tf.keras.callbacks.EarlyStopping(monitor='val_loss', min_delta=min_delta, verbose=1, patience=patience)\n",
    "check_point    = tf.keras.callbacks.ModelCheckpoint(save_model_name, monitor='val_loss', \n",
    "                                                    verbose=1, save_best_only=True)\n",
    "\n",
    "history = model.fit(dataset_tr, validation_data=dataset_vl , epochs=train_epochs, batch_size=batch_size, callbacks=[early_stopping, check_point])"
   ]
  },
  {
   "cell_type": "code",
   "execution_count": 21,
   "id": "0de68226",
   "metadata": {},
   "outputs": [
    {
     "data": {
      "image/png": "[encoded data removed]",
      "text/plain": [
       "<Figure size 600x500 with 1 Axes>"
      ]
     },
     "metadata": {},
     "output_type": "display_data"
    },
    {
     "data": {
      "image/png": "[encoded data removed]",
      "text/plain": [
       "<Figure size 600x500 with 1 Axes>"
      ]
     },
     "metadata": {},
     "output_type": "display_data"
    }
   ],
   "source": [
    "fig, ax = plt.subplots(1,1, figsize=(6,5))\n",
    "\n",
    "x = range(len(history.history['loss']))\n",
    "y_train = history.history['loss']\n",
    "y_validation = history.history['val_loss']\n",
    "\n",
    "ax.plot(x, y_train, label='Training')\n",
    "ax.plot(x, y_validation, label='Validation')\n",
    "\n",
    "ax.set_title('Loss across training')\n",
    "ax.set_xlabel('Epoch')\n",
    "ax.set_ylabel('Loss (categorical cross-entropy)')\n",
    "ax.legend()\n",
    "\n",
    "plt.show()\n",
    "\n",
    "fig, ax = plt.subplots(1,1, figsize=(6,5))\n",
    "\n",
    "x = range(len(history.history['accuracy']))\n",
    "y_train = history.history['accuracy']\n",
    "y_validation = history.history['val_accuracy']\n",
    "\n",
    "ax.plot(x, y_train, label='Training')\n",
    "ax.plot(x, y_validation, label='Validation')\n",
    "\n",
    "ax.set_title('Accuracy across training')\n",
    "ax.set_xlabel('Epoch')\n",
    "ax.set_ylabel('Accuracy')\n",
    "ax.legend()\n",
    "\n",
    "plt.show()"
   ]
  },
  {
   "cell_type": "markdown",
   "id": "30b2a71a",
   "metadata": {},
   "source": [
    "# Training results"
   ]
  },
  {
   "cell_type": "markdown",
   "id": "22ac0589",
   "metadata": {},
   "source": [
    "## Model"
   ]
  },
  {
   "cell_type": "code",
   "execution_count": 14,
   "id": "be87376c",
   "metadata": {},
   "outputs": [],
   "source": [
    "kappa = 0.15\n",
    "nevent = '1000k'\n",
    "save_model_name = f'best_model_CNN_kappa{kappa}-{nevent}/'\n",
    "loaded_model = tf.keras.models.load_model(save_model_name)"
   ]
  },
  {
   "cell_type": "markdown",
   "id": "f458d756",
   "metadata": {},
   "source": [
    "## Testing data"
   ]
  },
  {
   "cell_type": "code",
   "execution_count": 15,
   "id": "ba5377e8",
   "metadata": {},
   "outputs": [
    {
     "name": "stdout",
     "output_type": "stream",
     "text": [
      "The data set contains images\n"
     ]
    }
   ],
   "source": [
    "kappa = 0.15\n",
    "nevent = '1000k'\n",
    "batch_size = 512\n",
    "dim_image = [[75, 75], [[-0.8, 0.8], [-0.8, 0.8]]]\n",
    "sample_dir = f'/home/r10222035/boosted_V_ML_test/sample/samples_kappa{kappa}-{nevent}/'\n",
    "data_te = os.path.join(sample_dir, 'test.tfrecord')\n",
    "dataset_te, te_total = get_dataset(data_te, repeat=False, \n",
    "                                   batch_size=batch_size, \n",
    "                                   dim_image=dim_image+[True], \n",
    "                                   shuffle=0)"
   ]
  },
  {
   "cell_type": "code",
   "execution_count": 16,
   "id": "9ae5f692",
   "metadata": {},
   "outputs": [
    {
     "name": "stdout",
     "output_type": "stream",
     "text": [
      "401/401 [==============================] - 17s 40ms/step - loss: 0.7734 - accuracy: 0.6837\n",
      "Testing Loss = 0.773, Testing Accuracy = 0.684\n"
     ]
    }
   ],
   "source": [
    "results = loaded_model.evaluate(dataset_te)\n",
    "\n",
    "print(f'Testing Loss = {results[0]:.3}, Testing Accuracy = {results[1]:.3}')"
   ]
  },
  {
   "cell_type": "markdown",
   "id": "e933fde9",
   "metadata": {},
   "source": [
    "## Plot ROC"
   ]
  },
  {
   "cell_type": "code",
   "execution_count": 17,
   "id": "c9414dc4",
   "metadata": {},
   "outputs": [
    {
     "name": "stdout",
     "output_type": "stream",
     "text": [
      "402/402 [==============================] - 17s 41ms/step\n"
     ]
    }
   ],
   "source": [
    "labels = np.vstack([x[1] for x in dataset_te])\n",
    "\n",
    "predictions = loaded_model.predict(dataset_te).tolist()"
   ]
  },
  {
   "cell_type": "code",
   "execution_count": 18,
   "id": "d1be9c07",
   "metadata": {},
   "outputs": [
    {
     "name": "stdout",
     "output_type": "stream",
     "text": [
      "[[0. 1. 0.]\n",
      " [1. 0. 0.]\n",
      " [1. 0. 0.]\n",
      " [0. 1. 0.]\n",
      " [1. 0. 0.]\n",
      " [0. 0. 1.]\n",
      " [0. 1. 0.]\n",
      " [0. 0. 1.]\n",
      " [1. 0. 0.]\n",
      " [0. 0. 1.]]\n",
      "[[0.07028122991323471, 0.8157346248626709, 0.11398415267467499], [0.47015273571014404, 0.3832373023033142, 0.14661002159118652], [0.6425790190696716, 0.035970501601696014, 0.32145047187805176], [0.15415681898593903, 0.7301802039146423, 0.11566303670406342], [0.2246897965669632, 0.6441853642463684, 0.1311248540878296], [0.058581143617630005, 0.10210803151130676, 0.8393108248710632], [0.08194722980260849, 0.8205496072769165, 0.09750308841466904], [0.26571667194366455, 0.5957603454589844, 0.13852298259735107], [0.747867226600647, 0.1381976306438446, 0.11393524706363678], [0.008910316973924637, 0.943183183670044, 0.047906454652547836]]\n",
      "[1 0 0 1 0 2 1 2 0 2]\n",
      "[[0.07028123 0.81573462 0.11398415]\n",
      " [0.47015274 0.3832373  0.14661002]\n",
      " [0.64257902 0.0359705  0.32145047]\n",
      " [0.15415682 0.7301802  0.11566304]\n",
      " [0.2246898  0.64418536 0.13112485]\n",
      " [0.05858114 0.10210803 0.83931082]\n",
      " [0.08194723 0.82054961 0.09750309]\n",
      " [0.26571667 0.59576035 0.13852298]\n",
      " [0.74786723 0.13819763 0.11393525]\n",
      " [0.00891032 0.94318318 0.04790645]]\n"
     ]
    }
   ],
   "source": [
    "print(labels[:10])\n",
    "print(predictions[:10])\n",
    "\n",
    "y_test = np.argmax(labels, axis=1)\n",
    "y_prob = np.array(predictions)\n",
    "\n",
    "print(y_test[:10])\n",
    "print(y_prob[:10])"
   ]
  },
  {
   "cell_type": "code",
   "execution_count": 14,
   "id": "12f60f7a",
   "metadata": {},
   "outputs": [
    {
     "name": "stdout",
     "output_type": "stream",
     "text": [
      "[1.98017269e+00 9.80172694e-01 9.73584652e-01 ... 2.22397898e-03\n",
      " 2.22031772e-03 2.17161971e-04]\n",
      "Calculating ACC\n"
     ]
    },
    {
     "name": "stderr",
     "output_type": "stream",
     "text": [
      "  2%|██▋                                                                                                                                     | 1147/59009 [00:15<13:11, 73.15it/s]\n"
     ]
    },
    {
     "ename": "KeyboardInterrupt",
     "evalue": "",
     "output_type": "error",
     "traceback": [
      "\u001b[0;31m---------------------------------------------------------------------------\u001b[0m",
      "\u001b[0;31mKeyboardInterrupt\u001b[0m                         Traceback (most recent call last)",
      "Cell \u001b[0;32mIn [14], line 14\u001b[0m\n\u001b[1;32m     12\u001b[0m \u001b[38;5;28mprint\u001b[39m(\u001b[38;5;124m'\u001b[39m\u001b[38;5;124mCalculating ACC\u001b[39m\u001b[38;5;124m'\u001b[39m)\n\u001b[1;32m     13\u001b[0m \u001b[38;5;28;01mfor\u001b[39;00m threshold \u001b[38;5;129;01min\u001b[39;00m tqdm(threasholds):\n\u001b[0;32m---> 14\u001b[0m     accuracy_scores\u001b[38;5;241m.\u001b[39mappend(\u001b[43maccuracy_score\u001b[49m\u001b[43m(\u001b[49m\u001b[43my_test\u001b[49m\u001b[38;5;241;43m==\u001b[39;49m\u001b[43mi\u001b[49m\u001b[43m,\u001b[49m\u001b[43m  \u001b[49m\u001b[43my_prob\u001b[49m\u001b[43m[\u001b[49m\u001b[43m:\u001b[49m\u001b[43m,\u001b[49m\u001b[43mi\u001b[49m\u001b[43m]\u001b[49m\u001b[38;5;241;43m>\u001b[39;49m\u001b[43mthreshold\u001b[49m\u001b[43m)\u001b[49m)\n\u001b[1;32m     16\u001b[0m accuracies \u001b[38;5;241m=\u001b[39m np\u001b[38;5;241m.\u001b[39marray(accuracy_scores)\n\u001b[1;32m     17\u001b[0m ACC[i] \u001b[38;5;241m=\u001b[39m accuracies\u001b[38;5;241m.\u001b[39mmax() \n",
      "File \u001b[0;32m~/.conda/envs/tf2/lib/python3.8/site-packages/sklearn/metrics/_classification.py:211\u001b[0m, in \u001b[0;36maccuracy_score\u001b[0;34m(y_true, y_pred, normalize, sample_weight)\u001b[0m\n\u001b[1;32m    145\u001b[0m \u001b[38;5;124;03m\"\"\"Accuracy classification score.\u001b[39;00m\n\u001b[1;32m    146\u001b[0m \n\u001b[1;32m    147\u001b[0m \u001b[38;5;124;03mIn multilabel classification, this function computes subset accuracy:\u001b[39;00m\n\u001b[0;32m   (...)\u001b[0m\n\u001b[1;32m    207\u001b[0m \u001b[38;5;124;03m0.5\u001b[39;00m\n\u001b[1;32m    208\u001b[0m \u001b[38;5;124;03m\"\"\"\u001b[39;00m\n\u001b[1;32m    210\u001b[0m \u001b[38;5;66;03m# Compute accuracy for each possible representation\u001b[39;00m\n\u001b[0;32m--> 211\u001b[0m y_type, y_true, y_pred \u001b[38;5;241m=\u001b[39m \u001b[43m_check_targets\u001b[49m\u001b[43m(\u001b[49m\u001b[43my_true\u001b[49m\u001b[43m,\u001b[49m\u001b[43m \u001b[49m\u001b[43my_pred\u001b[49m\u001b[43m)\u001b[49m\n\u001b[1;32m    212\u001b[0m check_consistent_length(y_true, y_pred, sample_weight)\n\u001b[1;32m    213\u001b[0m \u001b[38;5;28;01mif\u001b[39;00m y_type\u001b[38;5;241m.\u001b[39mstartswith(\u001b[38;5;124m\"\u001b[39m\u001b[38;5;124mmultilabel\u001b[39m\u001b[38;5;124m\"\u001b[39m):\n",
      "File \u001b[0;32m~/.conda/envs/tf2/lib/python3.8/site-packages/sklearn/metrics/_classification.py:111\u001b[0m, in \u001b[0;36m_check_targets\u001b[0;34m(y_true, y_pred)\u001b[0m\n\u001b[1;32m    109\u001b[0m \u001b[38;5;28;01mif\u001b[39;00m y_type \u001b[38;5;241m==\u001b[39m \u001b[38;5;124m\"\u001b[39m\u001b[38;5;124mbinary\u001b[39m\u001b[38;5;124m\"\u001b[39m:\n\u001b[1;32m    110\u001b[0m     \u001b[38;5;28;01mtry\u001b[39;00m:\n\u001b[0;32m--> 111\u001b[0m         unique_values \u001b[38;5;241m=\u001b[39m \u001b[43mnp\u001b[49m\u001b[38;5;241;43m.\u001b[39;49m\u001b[43munion1d\u001b[49m\u001b[43m(\u001b[49m\u001b[43my_true\u001b[49m\u001b[43m,\u001b[49m\u001b[43m \u001b[49m\u001b[43my_pred\u001b[49m\u001b[43m)\u001b[49m\n\u001b[1;32m    112\u001b[0m     \u001b[38;5;28;01mexcept\u001b[39;00m \u001b[38;5;167;01mTypeError\u001b[39;00m \u001b[38;5;28;01mas\u001b[39;00m e:\n\u001b[1;32m    113\u001b[0m         \u001b[38;5;66;03m# We expect y_true and y_pred to be of the same data type.\u001b[39;00m\n\u001b[1;32m    114\u001b[0m         \u001b[38;5;66;03m# If `y_true` was provided to the classifier as strings,\u001b[39;00m\n\u001b[1;32m    115\u001b[0m         \u001b[38;5;66;03m# `y_pred` given by the classifier will also be encoded with\u001b[39;00m\n\u001b[1;32m    116\u001b[0m         \u001b[38;5;66;03m# strings. So we raise a meaningful error\u001b[39;00m\n\u001b[1;32m    117\u001b[0m         \u001b[38;5;28;01mraise\u001b[39;00m \u001b[38;5;167;01mTypeError\u001b[39;00m(\n\u001b[1;32m    118\u001b[0m             \u001b[38;5;124m\"\u001b[39m\u001b[38;5;124mLabels in y_true and y_pred should be of the same type. \u001b[39m\u001b[38;5;124m\"\u001b[39m\n\u001b[1;32m    119\u001b[0m             \u001b[38;5;124mf\u001b[39m\u001b[38;5;124m\"\u001b[39m\u001b[38;5;124mGot y_true=\u001b[39m\u001b[38;5;132;01m{\u001b[39;00mnp\u001b[38;5;241m.\u001b[39munique(y_true)\u001b[38;5;132;01m}\u001b[39;00m\u001b[38;5;124m and \u001b[39m\u001b[38;5;124m\"\u001b[39m\n\u001b[0;32m   (...)\u001b[0m\n\u001b[1;32m    122\u001b[0m             \u001b[38;5;124m\"\u001b[39m\u001b[38;5;124mthe true labels.\u001b[39m\u001b[38;5;124m\"\u001b[39m\n\u001b[1;32m    123\u001b[0m         ) \u001b[38;5;28;01mfrom\u001b[39;00m \u001b[38;5;21;01me\u001b[39;00m\n",
      "File \u001b[0;32m<__array_function__ internals>:180\u001b[0m, in \u001b[0;36munion1d\u001b[0;34m(*args, **kwargs)\u001b[0m\n",
      "File \u001b[0;32m~/.conda/envs/tf2/lib/python3.8/site-packages/numpy/lib/arraysetops.py:781\u001b[0m, in \u001b[0;36munion1d\u001b[0;34m(ar1, ar2)\u001b[0m\n\u001b[1;32m    747\u001b[0m \u001b[38;5;129m@array_function_dispatch\u001b[39m(_union1d_dispatcher)\n\u001b[1;32m    748\u001b[0m \u001b[38;5;28;01mdef\u001b[39;00m \u001b[38;5;21munion1d\u001b[39m(ar1, ar2):\n\u001b[1;32m    749\u001b[0m     \u001b[38;5;124;03m\"\"\"\u001b[39;00m\n\u001b[1;32m    750\u001b[0m \u001b[38;5;124;03m    Find the union of two arrays.\u001b[39;00m\n\u001b[1;32m    751\u001b[0m \n\u001b[0;32m   (...)\u001b[0m\n\u001b[1;32m    779\u001b[0m \u001b[38;5;124;03m    array([1, 2, 3, 4, 6])\u001b[39;00m\n\u001b[1;32m    780\u001b[0m \u001b[38;5;124;03m    \"\"\"\u001b[39;00m\n\u001b[0;32m--> 781\u001b[0m     \u001b[38;5;28;01mreturn\u001b[39;00m \u001b[43munique\u001b[49m\u001b[43m(\u001b[49m\u001b[43mnp\u001b[49m\u001b[38;5;241;43m.\u001b[39;49m\u001b[43mconcatenate\u001b[49m\u001b[43m(\u001b[49m\u001b[43m(\u001b[49m\u001b[43mar1\u001b[49m\u001b[43m,\u001b[49m\u001b[43m \u001b[49m\u001b[43mar2\u001b[49m\u001b[43m)\u001b[49m\u001b[43m,\u001b[49m\u001b[43m \u001b[49m\u001b[43maxis\u001b[49m\u001b[38;5;241;43m=\u001b[39;49m\u001b[38;5;28;43;01mNone\u001b[39;49;00m\u001b[43m)\u001b[49m\u001b[43m)\u001b[49m\n",
      "File \u001b[0;32m<__array_function__ internals>:180\u001b[0m, in \u001b[0;36munique\u001b[0;34m(*args, **kwargs)\u001b[0m\n",
      "File \u001b[0;32m~/.conda/envs/tf2/lib/python3.8/site-packages/numpy/lib/arraysetops.py:274\u001b[0m, in \u001b[0;36munique\u001b[0;34m(ar, return_index, return_inverse, return_counts, axis, equal_nan)\u001b[0m\n\u001b[1;32m    272\u001b[0m ar \u001b[38;5;241m=\u001b[39m np\u001b[38;5;241m.\u001b[39masanyarray(ar)\n\u001b[1;32m    273\u001b[0m \u001b[38;5;28;01mif\u001b[39;00m axis \u001b[38;5;129;01mis\u001b[39;00m \u001b[38;5;28;01mNone\u001b[39;00m:\n\u001b[0;32m--> 274\u001b[0m     ret \u001b[38;5;241m=\u001b[39m \u001b[43m_unique1d\u001b[49m\u001b[43m(\u001b[49m\u001b[43mar\u001b[49m\u001b[43m,\u001b[49m\u001b[43m \u001b[49m\u001b[43mreturn_index\u001b[49m\u001b[43m,\u001b[49m\u001b[43m \u001b[49m\u001b[43mreturn_inverse\u001b[49m\u001b[43m,\u001b[49m\u001b[43m \u001b[49m\u001b[43mreturn_counts\u001b[49m\u001b[43m,\u001b[49m\u001b[43m \u001b[49m\n\u001b[1;32m    275\u001b[0m \u001b[43m                    \u001b[49m\u001b[43mequal_nan\u001b[49m\u001b[38;5;241;43m=\u001b[39;49m\u001b[43mequal_nan\u001b[49m\u001b[43m)\u001b[49m\n\u001b[1;32m    276\u001b[0m     \u001b[38;5;28;01mreturn\u001b[39;00m _unpack_tuple(ret)\n\u001b[1;32m    278\u001b[0m \u001b[38;5;66;03m# axis was specified and not None\u001b[39;00m\n",
      "File \u001b[0;32m~/.conda/envs/tf2/lib/python3.8/site-packages/numpy/lib/arraysetops.py:336\u001b[0m, in \u001b[0;36m_unique1d\u001b[0;34m(ar, return_index, return_inverse, return_counts, equal_nan)\u001b[0m\n\u001b[1;32m    334\u001b[0m     aux \u001b[38;5;241m=\u001b[39m ar[perm]\n\u001b[1;32m    335\u001b[0m \u001b[38;5;28;01melse\u001b[39;00m:\n\u001b[0;32m--> 336\u001b[0m     \u001b[43mar\u001b[49m\u001b[38;5;241;43m.\u001b[39;49m\u001b[43msort\u001b[49m\u001b[43m(\u001b[49m\u001b[43m)\u001b[49m\n\u001b[1;32m    337\u001b[0m     aux \u001b[38;5;241m=\u001b[39m ar\n\u001b[1;32m    338\u001b[0m mask \u001b[38;5;241m=\u001b[39m np\u001b[38;5;241m.\u001b[39mempty(aux\u001b[38;5;241m.\u001b[39mshape, dtype\u001b[38;5;241m=\u001b[39mnp\u001b[38;5;241m.\u001b[39mbool_)\n",
      "\u001b[0;31mKeyboardInterrupt\u001b[0m: "
     ]
    },
    {
     "data": {
      "image/png": "[encoded data removed]",
      "text/plain": [
       "<Figure size 600x500 with 1 Axes>"
      ]
     },
     "metadata": {},
     "output_type": "display_data"
    }
   ],
   "source": [
    "fig, ax = plt.subplots(1,1, figsize=(6,5))\n",
    "\n",
    "particle_type = {0: '$W^+$', 1: '$W^-$', 2: '$Z$    '}\n",
    "AUC = [0,0,0]\n",
    "ACC = [0,0,0]\n",
    "for i in range(3):\n",
    "    AUC[i] = roc_auc_score(y_test==i,  y_prob[:,i])\n",
    "    fpr, tpr, threasholds = roc_curve(y_test==i, y_prob[:,i])\n",
    "    print(threasholds)\n",
    "    # 計算最高的正確率\n",
    "    accuracy_scores = []\n",
    "    print('Calculating ACC')\n",
    "    for threshold in tqdm(threasholds):\n",
    "        accuracy_scores.append(accuracy_score(y_test==i,  y_prob[:,i]>threshold))\n",
    "\n",
    "    accuracies = np.array(accuracy_scores)\n",
    "    ACC[i] = accuracies.max() \n",
    "    \n",
    "    ax.plot(fpr, tpr, label = f'{particle_type[i]} AUC = {AUC[i]:.3f}  ACC = {ACC[i]:.3f}')\n",
    "\n",
    "ax.set_title(f'ROC of CNN$^2$ $\\kappa = {kappa}$')\n",
    "ax.set_xlabel('False Positive Rate')\n",
    "ax.set_ylabel('True Positive Rate')\n",
    "ax.legend()\n",
    "\n",
    "# plt.savefig(f'figures/ROC_CNN_kappa{kappa}-{nevent}.png', facecolor='White', dpi=300)\n",
    "plt.show()"
   ]
  },
  {
   "cell_type": "code",
   "execution_count": 20,
   "id": "9f75b1a3",
   "metadata": {},
   "outputs": [
    {
     "name": "stdout",
     "output_type": "stream",
     "text": [
      "Calculating ACC\n"
     ]
    },
    {
     "name": "stderr",
     "output_type": "stream",
     "text": [
      "100%|█████████████████████████████████████████████████████████████████████████████████████████████████████████████████████████████████████████| 1001/1001 [00:15<00:00, 65.40it/s]\n",
      "/tmp/ipykernel_853169/3837157490.py:23: RuntimeWarning: divide by zero encountered in divide\n",
      "  ax.plot(tpr, 1/fpr, label = f'{particle_type[i]} AUC = {AUC[i]:.3f}  ACC = {ACC[i]:.3f}')\n"
     ]
    },
    {
     "name": "stdout",
     "output_type": "stream",
     "text": [
      "Calculating ACC\n"
     ]
    },
    {
     "name": "stderr",
     "output_type": "stream",
     "text": [
      "100%|█████████████████████████████████████████████████████████████████████████████████████████████████████████████████████████████████████████| 1001/1001 [00:14<00:00, 66.95it/s]\n",
      "/tmp/ipykernel_853169/3837157490.py:23: RuntimeWarning: divide by zero encountered in divide\n",
      "  ax.plot(tpr, 1/fpr, label = f'{particle_type[i]} AUC = {AUC[i]:.3f}  ACC = {ACC[i]:.3f}')\n"
     ]
    },
    {
     "name": "stdout",
     "output_type": "stream",
     "text": [
      "Calculating ACC\n"
     ]
    },
    {
     "name": "stderr",
     "output_type": "stream",
     "text": [
      "100%|█████████████████████████████████████████████████████████████████████████████████████████████████████████████████████████████████████████| 1001/1001 [00:14<00:00, 67.92it/s]\n",
      "/tmp/ipykernel_853169/3837157490.py:23: RuntimeWarning: divide by zero encountered in divide\n",
      "  ax.plot(tpr, 1/fpr, label = f'{particle_type[i]} AUC = {AUC[i]:.3f}  ACC = {ACC[i]:.3f}')\n"
     ]
    },
    {
     "data": {
      "image/png": "[encoded data removed]",
      "text/plain": [
       "<Figure size 400x400 with 1 Axes>"
      ]
     },
     "metadata": {},
     "output_type": "display_data"
    }
   ],
   "source": [
    "fig, ax = plt.subplots(1,1, figsize=(4,4))\n",
    "\n",
    "particle_type = {0: '$W^+$', 1: '$W^-$', 2: '$Z$    '}\n",
    "AUC = [0,0,0]\n",
    "ACC = [0,0,0]\n",
    "for i in range(3):\n",
    "    AUC[i] = roc_auc_score(y_test==i,  y_prob[:,i])\n",
    "    fpr, tpr, thresholds = roc_curve(y_test==i, y_prob[:,i])\n",
    "\n",
    "    # 計算最高的正確率\n",
    "    accuracy_scores = []\n",
    "    print('Calculating ACC')\n",
    "    thresholds = np.array(thresholds)\n",
    "    if len(thresholds) > 1000:\n",
    "        thresholds = np.percentile(thresholds, np.linspace(0,100,1001))\n",
    "\n",
    "    for threshold in tqdm(thresholds):\n",
    "        accuracy_scores.append(accuracy_score(y_test==i,  y_prob[:,i]>threshold))\n",
    "\n",
    "    accuracies = np.array(accuracy_scores)\n",
    "    ACC[i] = accuracies.max() \n",
    "    \n",
    "    ax.plot(tpr, 1/fpr, label = f'{particle_type[i]} AUC = {AUC[i]:.3f}  ACC = {ACC[i]:.3f}')\n",
    "\n",
    "ax.set_title(f'ROC of CNN $\\kappa = {kappa}$')\n",
    "ax.set_xlabel('True Positive Rate')\n",
    "ax.set_ylabel('1/False Positive Rate')\n",
    "ax.set_xlim([0, 1.05])\n",
    "ax.set_ylim([1e-1, 1e5])\n",
    "ax.xaxis.grid(True, which='major')\n",
    "ax.yaxis.grid(True, which='major')\n",
    "ax.set_yscale('log')\n",
    "ax.legend()\n",
    "\n",
    "plt.savefig(f'figures/ROC_CNN_kappa{kappa}-{nevent}-pstyle.png', facecolor='White', dpi=300, bbox_inches = 'tight')\n",
    "plt.show()"
   ]
  },
  {
   "cell_type": "code",
   "execution_count": 13,
   "id": "2f1da303",
   "metadata": {},
   "outputs": [
    {
     "name": "stdout",
     "output_type": "stream",
     "text": [
      "Calculating ACC\n"
     ]
    },
    {
     "name": "stderr",
     "output_type": "stream",
     "text": [
      "100%|█████████████████████████████████████████████████████████████████████████████████████████████████████████████████████████████████████████| 1001/1001 [00:15<00:00, 65.81it/s]\n",
      "/tmp/ipykernel_853169/3398711447.py:23: RuntimeWarning: divide by zero encountered in divide\n",
      "  ax.plot(tpr, 1/fpr, label = f'{particle_type[i]} AUC = {AUC[i]:.3f}  ACC = {ACC[i]:.3f}')\n"
     ]
    },
    {
     "name": "stdout",
     "output_type": "stream",
     "text": [
      "Calculating ACC\n"
     ]
    },
    {
     "name": "stderr",
     "output_type": "stream",
     "text": [
      "100%|█████████████████████████████████████████████████████████████████████████████████████████████████████████████████████████████████████████| 1001/1001 [00:15<00:00, 65.63it/s]\n",
      "/tmp/ipykernel_853169/3398711447.py:23: RuntimeWarning: divide by zero encountered in divide\n",
      "  ax.plot(tpr, 1/fpr, label = f'{particle_type[i]} AUC = {AUC[i]:.3f}  ACC = {ACC[i]:.3f}')\n"
     ]
    },
    {
     "name": "stdout",
     "output_type": "stream",
     "text": [
      "Calculating ACC\n"
     ]
    },
    {
     "name": "stderr",
     "output_type": "stream",
     "text": [
      "100%|█████████████████████████████████████████████████████████████████████████████████████████████████████████████████████████████████████████| 1001/1001 [00:14<00:00, 67.94it/s]\n",
      "/tmp/ipykernel_853169/3398711447.py:23: RuntimeWarning: divide by zero encountered in divide\n",
      "  ax.plot(tpr, 1/fpr, label = f'{particle_type[i]} AUC = {AUC[i]:.3f}  ACC = {ACC[i]:.3f}')\n"
     ]
    },
    {
     "data": {
      "image/png": "[encoded data removed]",
      "text/plain": [
       "<Figure size 400x400 with 1 Axes>"
      ]
     },
     "metadata": {},
     "output_type": "display_data"
    }
   ],
   "source": [
    "fig, ax = plt.subplots(1,1, figsize=(4,4))\n",
    "\n",
    "particle_type = {0: '$W^+$', 1: '$W^-$', 2: '$Z$    '}\n",
    "AUC = [0,0,0]\n",
    "ACC = [0,0,0]\n",
    "for i in range(3):\n",
    "    AUC[i] = roc_auc_score(y_test==i,  y_prob[:,i])\n",
    "    fpr, tpr, thresholds = roc_curve(y_test==i, y_prob[:,i])\n",
    "\n",
    "    # 計算最高的正確率\n",
    "    accuracy_scores = []\n",
    "    print('Calculating ACC')\n",
    "    thresholds = np.array(thresholds)\n",
    "    if len(thresholds) > 1000:\n",
    "        thresholds = np.percentile(thresholds, np.linspace(0,100,1001))\n",
    "\n",
    "    for threshold in tqdm(thresholds):\n",
    "        accuracy_scores.append(accuracy_score(y_test==i,  y_prob[:,i]>threshold))\n",
    "\n",
    "    accuracies = np.array(accuracy_scores)\n",
    "    ACC[i] = accuracies.max() \n",
    "    \n",
    "    ax.plot(tpr, 1/fpr, label = f'{particle_type[i]} AUC = {AUC[i]:.3f}  ACC = {ACC[i]:.3f}')\n",
    "\n",
    "ax.set_title(f'ROC of CNN$^2$ $\\kappa = {kappa}$')\n",
    "ax.set_xlabel('True Positive Rate')\n",
    "ax.set_ylabel('1/False Positive Rate')\n",
    "ax.set_xlim([0, 1.05])\n",
    "ax.set_ylim([1e-1, 1e5])\n",
    "ax.xaxis.grid(True, which='major')\n",
    "ax.yaxis.grid(True, which='major')\n",
    "ax.set_yscale('log')\n",
    "ax.legend()\n",
    "\n",
    "plt.savefig(f'figures/ROC_CNNsq_kappa{kappa}-{nevent}-pstyle.png', facecolor='White', dpi=300, bbox_inches = 'tight')\n",
    "plt.show()"
   ]
  },
  {
   "cell_type": "markdown",
   "id": "9385dc5d",
   "metadata": {},
   "source": [
    "# Write training results"
   ]
  },
  {
   "cell_type": "code",
   "execution_count": 19,
   "id": "d8a5e8fb",
   "metadata": {},
   "outputs": [],
   "source": [
    "now = datetime.datetime.now()"
   ]
  },
  {
   "cell_type": "code",
   "execution_count": 20,
   "id": "64e08698",
   "metadata": {},
   "outputs": [],
   "source": [
    "file_name = 'CNN_training_results.csv'"
   ]
  },
  {
   "cell_type": "code",
   "execution_count": 25,
   "id": "a838cecc",
   "metadata": {},
   "outputs": [],
   "source": [
    "df = pd.DataFrame({'kappa': [kappa],\n",
    "                'Sample': [nevent],\n",
    "                'Train W+': [train_size[0]],\n",
    "                'Train W-': [train_size[1]],\n",
    "                'Train Z':  [train_size[2]],\n",
    "                'Validation W+': [validation_size[0]],\n",
    "                'Validation W-': [validation_size[1]],\n",
    "                'Validation Z':  [validation_size[2]],\n",
    "                'Test W+': [test_size[0]],\n",
    "                'Test W-': [test_size[1]],\n",
    "                'Test Z':  [test_size[2]],\n",
    "                'Overall ACC': [results[1]],\n",
    "                'W+ AUC': [AUC[0]],\n",
    "                'W+ ACC': [ACC[0]],\n",
    "                'W- AUC': [AUC[1]],\n",
    "                'W- ACC': [ACC[1]],\n",
    "                'Z AUC':  [AUC[2]],\n",
    "                'Z ACC':  [ACC[2]],\n",
    "                'time': now,\n",
    "                })\n",
    "if os.path.isfile(file_name):\n",
    "    training_results_df = pd.read_csv(file_name)\n",
    "    pd.concat([training_results_df, df], ignore_index=True).to_csv(file_name, index=False)\n",
    "else:\n",
    "    df.to_csv(file_name, index=False)"
   ]
  },
  {
   "cell_type": "markdown",
   "id": "b6b9ab55",
   "metadata": {},
   "source": [
    "# Paper ROC"
   ]
  },
  {
   "cell_type": "markdown",
   "id": "95309a2a",
   "metadata": {},
   "source": [
    "## Model"
   ]
  },
  {
   "cell_type": "code",
   "execution_count": 2,
   "id": "b7e044c5",
   "metadata": {},
   "outputs": [
    {
     "name": "stderr",
     "output_type": "stream",
     "text": [
      "2022-11-21 10:34:42.966643: I tensorflow/core/platform/cpu_feature_guard.cc:193] This TensorFlow binary is optimized with oneAPI Deep Neural Network Library (oneDNN) to use the following CPU instructions in performance-critical operations:  SSE4.1 SSE4.2 AVX AVX2 AVX512F AVX512_VNNI FMA\n",
      "To enable them in other operations, rebuild TensorFlow with the appropriate compiler flags.\n",
      "2022-11-21 10:34:46.248738: I tensorflow/core/common_runtime/gpu/gpu_device.cc:1532] Created device /job:localhost/replica:0/task:0/device:GPU:0 with 22286 MB memory:  -> device: 0, name: NVIDIA GeForce RTX 3090, pci bus id: 0000:d8:00.0, compute capability: 8.6\n"
     ]
    }
   ],
   "source": [
    "kappa = 0.15\n",
    "nevent = '1000k'\n",
    "CNN_model_name = f'best_model_CNN_kappa{kappa}-{nevent}/'\n",
    "loaded_CNN = tf.keras.models.load_model(CNN_model_name)\n",
    "\n",
    "kappa = 0.15\n",
    "nevent = '1000k'\n",
    "CNNsq_model_name = f'best_model_CNNsq_kappa{kappa}-{nevent}/'\n",
    "loaded_CNNsq = tf.keras.models.load_model(CNNsq_model_name)"
   ]
  },
  {
   "cell_type": "markdown",
   "id": "f1e69182",
   "metadata": {},
   "source": [
    "## Testing data"
   ]
  },
  {
   "cell_type": "code",
   "execution_count": 3,
   "id": "6fd75eef",
   "metadata": {},
   "outputs": [
    {
     "name": "stdout",
     "output_type": "stream",
     "text": [
      "The data set contains images\n"
     ]
    }
   ],
   "source": [
    "kappa = 0.15\n",
    "nevent = '1000k'\n",
    "batch_size = 512\n",
    "dim_image = [[75, 75], [[-0.8, 0.8], [-0.8, 0.8]]]\n",
    "sample_dir = f'/home/r10222035/boosted_V_ML_test/sample/samples_kappa{kappa}-{nevent}/'\n",
    "data_te = os.path.join(sample_dir, 'test.tfrecord')\n",
    "dataset_te, te_total = get_dataset(data_te, repeat=False, \n",
    "                                   batch_size=batch_size, \n",
    "                                   dim_image=dim_image+[True], \n",
    "                                   shuffle=0)"
   ]
  },
  {
   "cell_type": "code",
   "execution_count": 4,
   "id": "2e2785eb",
   "metadata": {},
   "outputs": [
    {
     "name": "stderr",
     "output_type": "stream",
     "text": [
      "2022-11-21 10:35:50.552591: I tensorflow/stream_executor/cuda/cuda_dnn.cc:384] Loaded cuDNN version 8401\n",
      "2022-11-21 10:35:56.150578: I tensorflow/core/platform/default/subprocess.cc:304] Start cannot spawn child process: No such file or directory\n",
      "2022-11-21 10:35:56.151456: I tensorflow/core/platform/default/subprocess.cc:304] Start cannot spawn child process: No such file or directory\n",
      "2022-11-21 10:35:56.151479: W tensorflow/stream_executor/gpu/asm_compiler.cc:80] Couldn't get ptxas version string: INTERNAL: Couldn't invoke ptxas --version\n",
      "2022-11-21 10:35:56.152254: I tensorflow/core/platform/default/subprocess.cc:304] Start cannot spawn child process: No such file or directory\n",
      "2022-11-21 10:35:56.152329: W tensorflow/stream_executor/gpu/redzone_allocator.cc:314] INTERNAL: Failed to launch ptxas\n",
      "Relying on driver to perform ptx compilation. \n",
      "Modify $PATH to customize ptxas location.\n",
      "This message will be only logged once.\n",
      "2022-11-21 10:35:57.054149: I tensorflow/stream_executor/cuda/cuda_blas.cc:1786] TensorFloat-32 will be used for the matrix multiplication. This will only be logged once.\n"
     ]
    },
    {
     "name": "stdout",
     "output_type": "stream",
     "text": [
      "401/401 [==============================] - 22s 25ms/step - loss: 0.7734 - accuracy: 0.6837\n",
      "Testing Loss = 0.773, Testing Accuracy = 0.684\n",
      "401/401 [==============================] - 20s 46ms/step - loss: 0.7669 - accuracy: 0.6845\n",
      "Testing Loss = 0.767, Testing Accuracy = 0.685\n"
     ]
    }
   ],
   "source": [
    "results = loaded_CNN.evaluate(dataset_te)\n",
    "\n",
    "print(f'Testing Loss = {results[0]:.3}, Testing Accuracy = {results[1]:.3}')\n",
    "\n",
    "results = loaded_CNNsq.evaluate(dataset_te)\n",
    "\n",
    "print(f'Testing Loss = {results[0]:.3}, Testing Accuracy = {results[1]:.3}')"
   ]
  },
  {
   "cell_type": "markdown",
   "id": "b218bad7",
   "metadata": {},
   "source": [
    "## Plot ROC"
   ]
  },
  {
   "cell_type": "code",
   "execution_count": 5,
   "id": "7592b695",
   "metadata": {},
   "outputs": [
    {
     "name": "stdout",
     "output_type": "stream",
     "text": [
      "402/402 [==============================] - 8s 19ms/step\n",
      "402/402 [==============================] - 18s 45ms/step\n"
     ]
    }
   ],
   "source": [
    "labels = np.vstack([x[1] for x in dataset_te])\n",
    "\n",
    "predictions_CNN = loaded_CNN.predict(dataset_te).tolist()\n",
    "predictions_CNNsq = loaded_CNNsq.predict(dataset_te).tolist()"
   ]
  },
  {
   "cell_type": "code",
   "execution_count": 6,
   "id": "b83c2c6c",
   "metadata": {},
   "outputs": [],
   "source": [
    "y_test = np.argmax(labels, axis=1)\n",
    "y_prob_CNN = np.array(predictions_CNN)\n",
    "y_prob_CNNsq = np.array(predictions_CNNsq)"
   ]
  },
  {
   "cell_type": "code",
   "execution_count": 16,
   "id": "3c0a4ae8",
   "metadata": {},
   "outputs": [
    {
     "name": "stderr",
     "output_type": "stream",
     "text": [
      "/tmp/ipykernel_885987/393142578.py:7: RuntimeWarning: divide by zero encountered in divide\n",
      "  ax.plot(tpr, 1/fpr, label = 'CNN')\n",
      "/tmp/ipykernel_885987/393142578.py:9: RuntimeWarning: divide by zero encountered in divide\n",
      "  ax.plot(tpr, 1/fpr, label = 'CNN$^2$')\n"
     ]
    },
    {
     "data": {
      "image/png": "[encoded data removed]",
      "text/plain": [
       "<Figure size 400x400 with 1 Axes>"
      ]
     },
     "metadata": {},
     "output_type": "display_data"
    }
   ],
   "source": [
    "fig, ax = plt.subplots(1,1, figsize=(4,4))\n",
    "\n",
    "particle_type = {0: '$W^+$', 1: '$W^-$', 2: '$Z$    '}\n",
    "AUC = [0,0,0]\n",
    "ACC = [0,0,0]\n",
    "fpr, tpr, thresholds = roc_curve(y_test==1, y_prob_CNN[:,1])\n",
    "ax.plot(tpr, 1/fpr, label = 'CNN')\n",
    "fpr, tpr, thresholds = roc_curve(y_test==1, y_prob_CNNsq[:,1])\n",
    "ax.plot(tpr, 1/fpr, label = 'CNN$^2$')\n",
    "\n",
    "\n",
    "ax.set_title(f'ROC of $\\kappa = {kappa}$')\n",
    "ax.set_xlabel('$\\epsilon_{W^-}$')\n",
    "ax.set_ylabel('$1/\\epsilon_{Z,W^+}$')\n",
    "ax.set_xlim([0, 1.05])\n",
    "ax.set_ylim([1e-1, 1e5])\n",
    "ax.xaxis.grid(True, which='major')\n",
    "ax.yaxis.grid(True, which='major')\n",
    "ax.set_yscale('log')\n",
    "ax.legend()\n",
    "\n",
    "plt.savefig(f'figures/ROC_kappa{kappa}-{nevent}-pstyle-wm.png', facecolor='White', dpi=300, bbox_inches = 'tight')\n",
    "plt.show()"
   ]
  },
  {
   "cell_type": "code",
   "execution_count": 17,
   "id": "aeebc6af",
   "metadata": {},
   "outputs": [
    {
     "name": "stderr",
     "output_type": "stream",
     "text": [
      "/tmp/ipykernel_885987/1058772103.py:7: RuntimeWarning: divide by zero encountered in divide\n",
      "  ax.plot(tpr, 1/fpr, label = 'CNN')\n",
      "/tmp/ipykernel_885987/1058772103.py:9: RuntimeWarning: divide by zero encountered in divide\n",
      "  ax.plot(tpr, 1/fpr, label = 'CNN$^2$')\n"
     ]
    },
    {
     "data": {
      "image/png": "[encoded data removed]",
      "text/plain": [
       "<Figure size 400x400 with 1 Axes>"
      ]
     },
     "metadata": {},
     "output_type": "display_data"
    }
   ],
   "source": [
    "fig, ax = plt.subplots(1,1, figsize=(4,4))\n",
    "\n",
    "particle_type = {0: '$W^+$', 1: '$W^-$', 2: '$Z$    '}\n",
    "AUC = [0,0,0]\n",
    "ACC = [0,0,0]\n",
    "fpr, tpr, thresholds = roc_curve(y_test==2, y_prob_CNN[:,2])\n",
    "ax.plot(tpr, 1/fpr, label = 'CNN')\n",
    "fpr, tpr, thresholds = roc_curve(y_test==2, y_prob_CNNsq[:,2])\n",
    "ax.plot(tpr, 1/fpr, label = 'CNN$^2$')\n",
    "\n",
    "\n",
    "ax.set_title(f'ROC of $\\kappa = {kappa}$')\n",
    "ax.set_xlabel('$\\epsilon_{Z}$')\n",
    "ax.set_ylabel('$1/\\epsilon_{W^+,W^-}$')\n",
    "ax.set_xlim([0, 1.05])\n",
    "ax.set_ylim([1e-1, 1e5])\n",
    "ax.xaxis.grid(True, which='major')\n",
    "ax.yaxis.grid(True, which='major')\n",
    "ax.set_yscale('log')\n",
    "ax.legend()\n",
    "\n",
    "plt.savefig(f'figures/ROC_kappa{kappa}-{nevent}-pstyle-z.png', facecolor='White', dpi=300, bbox_inches = 'tight')\n",
    "plt.show()"
   ]
  },
  {
   "cell_type": "code",
   "execution_count": null,
   "id": "2c939c6c",
   "metadata": {},
   "outputs": [],
   "source": []
  }
 ],
 "metadata": {
  "kernelspec": {
   "display_name": "Python 3 (ipykernel)",
   "language": "python",
   "name": "python3"
  },
  "language_info": {
   "codemirror_mode": {
    "name": "ipython",
    "version": 3
   },
   "file_extension": ".py",
   "mimetype": "text/x-python",
   "name": "python",
   "nbconvert_exporter": "python",
   "pygments_lexer": "ipython3",
   "version": "3.8.13"
  }
 },
 "nbformat": 4,
 "nbformat_minor": 5
}
